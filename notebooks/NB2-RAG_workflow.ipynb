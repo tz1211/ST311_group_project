{
 "cells": [
  {
   "cell_type": "markdown",
   "metadata": {},
   "source": [
    "# Set Up "
   ]
  },
  {
   "cell_type": "code",
   "execution_count": 1,
   "metadata": {},
   "outputs": [
    {
     "data": {
      "application/vnd.jupyter.widget-view+json": {
       "model_id": "2edd23fd17a34dd7b2f6be17c7c56c05",
       "version_major": 2,
       "version_minor": 0
      },
      "text/plain": [
       "Fetching 30 files:   0%|          | 0/30 [00:00<?, ?it/s]"
      ]
     },
     "metadata": {},
     "output_type": "display_data"
    },
    {
     "data": {
      "text/plain": [
       "True"
      ]
     },
     "execution_count": 1,
     "metadata": {},
     "output_type": "execute_result"
    }
   ],
   "source": [
    "import sys\n",
    "import csv \n",
    "csv.field_size_limit(sys.maxsize)\n",
    "\n",
    "if '..' not in sys.path:\n",
    "    sys.path.append('..')\n",
    "\n",
    "import os\n",
    "import logging\n",
    "import pandas as pd \n",
    "from dotenv import load_dotenv\n",
    "from RAG.rag_agent import RAGAgent \n",
    "from RAG.rag_searcher import RAGSearcher\n",
    "from utils.clients import create_chat_client, create_embed_client \n",
    "\n",
    "load_dotenv(override=True)"
   ]
  },
  {
   "cell_type": "code",
   "execution_count": 2,
   "metadata": {},
   "outputs": [],
   "source": [
    "# Set up logging\n",
    "logging.basicConfig(\n",
    "    level=logging.INFO,  \n",
    "    format='%(asctime)s - %(name)s - %(levelname)s - %(message)s',\n",
    "    handlers=[\n",
    "        logging.FileHandler('../logs/rag_agent.log')  # Remove StreamHandler to prevent console output\n",
    "    ]\n",
    ")\n",
    "\n",
    "logger = logging.getLogger(__name__)\n",
    "logger.setLevel(logging.INFO)  "
   ]
  },
  {
   "cell_type": "markdown",
   "metadata": {},
   "source": [
    "# Load Data"
   ]
  },
  {
   "cell_type": "code",
   "execution_count": 3,
   "metadata": {},
   "outputs": [],
   "source": [
    "df_benchmark = pd.read_csv(\"../data/longbench_filtered.csv\", delimiter=\"§\", engine=\"python\")\n",
    "df_context_asc = pd.read_csv(\"../data/longbench_context_chunked_asc.csv\", delimiter=\"§\", engine=\"python\")\n",
    "df_context_simple = pd.read_csv(\"../data/longbench_context_chunked_simple.csv\", delimiter=\"§\", engine=\"python\")"
   ]
  },
  {
   "cell_type": "markdown",
   "metadata": {},
   "source": [
    "# Initialise RAG Agent"
   ]
  },
  {
   "cell_type": "code",
   "execution_count": 4,
   "metadata": {},
   "outputs": [
    {
     "data": {
      "application/vnd.jupyter.widget-view+json": {
       "model_id": "266a78b507584ab9b385fcbc13addd76",
       "version_major": 2,
       "version_minor": 0
      },
      "text/plain": [
       "Fetching 30 files:   0%|          | 0/30 [00:00<?, ?it/s]"
      ]
     },
     "metadata": {},
     "output_type": "display_data"
    }
   ],
   "source": [
    "chat_client = create_chat_client()\n",
    "embed_client = create_embed_client()\n",
    "\n",
    "rag_agent = RAGAgent(\n",
    "    chat_client=chat_client,\n",
    "    embed_client=embed_client,\n",
    "    chat_model=os.getenv(\"MODEL_NAME\"),\n",
    "    searcher=RAGSearcher(),\n",
    "    max_tokens=130000,\n",
    "    temperature=0.0\n",
    ")"
   ]
  },
  {
   "cell_type": "markdown",
   "metadata": {},
   "source": [
    "# Demo"
   ]
  },
  {
   "cell_type": "code",
   "execution_count": 5,
   "metadata": {},
   "outputs": [
    {
     "data": {
      "text/plain": [
       "_id                                               66f36490821e116aacb2cc22\n",
       "domain                                                  Single-Document QA\n",
       "sub_domain                                                       Financial\n",
       "difficulty                                                            easy\n",
       "length                                                               short\n",
       "question                 According to the report, how to promote the co...\n",
       "choice_A                 Through technology empowerment, change the way...\n",
       "choice_B                 Establish new types of courts, such as intelle...\n",
       "choice_C                 Improve the work ability of office staff and s...\n",
       "choice_D                 Use advanced information systems to improve th...\n",
       "answer                                                                   D\n",
       "context                  Contents\\nPreface.\\n.............................\n",
       "context_tokens                                                       38133\n",
       "within_context_window                                                 True\n",
       "Name: 0, dtype: object"
      ]
     },
     "execution_count": 5,
     "metadata": {},
     "output_type": "execute_result"
    }
   ],
   "source": [
    "df_benchmark.iloc[0]"
   ]
  },
  {
   "cell_type": "code",
   "execution_count": 10,
   "metadata": {},
   "outputs": [],
   "source": [
    "import random\n",
    "n = random.randint(0, len(df_benchmark))\n",
    "\n",
    "id = df_benchmark.iloc[n][\"_id\"]\n",
    "question = df_benchmark.iloc[n][\"question\"]\n",
    "choice_a = df_benchmark.iloc[n][\"choice_A\"]\n",
    "choice_b = df_benchmark.iloc[n][\"choice_B\"]\n",
    "choice_c = df_benchmark.iloc[n][\"choice_C\"]\n",
    "choice_d = df_benchmark.iloc[n][\"choice_D\"]\n",
    "correct_answer = df_benchmark.iloc[n][\"answer\"]"
   ]
  },
  {
   "cell_type": "code",
   "execution_count": 11,
   "metadata": {},
   "outputs": [
    {
     "data": {
      "text/html": [
       "<div>\n",
       "<style scoped>\n",
       "    .dataframe tbody tr th:only-of-type {\n",
       "        vertical-align: middle;\n",
       "    }\n",
       "\n",
       "    .dataframe tbody tr th {\n",
       "        vertical-align: top;\n",
       "    }\n",
       "\n",
       "    .dataframe thead th {\n",
       "        text-align: right;\n",
       "    }\n",
       "</style>\n",
       "<table border=\"1\" class=\"dataframe\">\n",
       "  <thead>\n",
       "    <tr style=\"text-align: right;\">\n",
       "      <th></th>\n",
       "      <th>_id</th>\n",
       "      <th>chunk_id</th>\n",
       "      <th>chunk_text</th>\n",
       "      <th>embeddings</th>\n",
       "    </tr>\n",
       "  </thead>\n",
       "  <tbody>\n",
       "    <tr>\n",
       "      <th>28413</th>\n",
       "      <td>66f4f87b821e116aacb31d62</td>\n",
       "      <td>0</td>\n",
       "      <td>et5 user manual user manual 2024 / 9 / 26 13 :...</td>\n",
       "      <td>[[-0.032562255859375, -0.0107574462890625, -0....</td>\n",
       "    </tr>\n",
       "    <tr>\n",
       "      <th>28414</th>\n",
       "      <td>66f4f87b821e116aacb31d62</td>\n",
       "      <td>1</td>\n",
       "      <td>: this is to advise you on how to avoid possib...</td>\n",
       "      <td>[[-0.03607177734375, 0.003021240234375, -0.054...</td>\n",
       "    </tr>\n",
       "    <tr>\n",
       "      <th>28415</th>\n",
       "      <td>66f4f87b821e116aacb31d62</td>\n",
       "      <td>2</td>\n",
       "      <td>headrest adjustment seat massage mode seat hea...</td>\n",
       "      <td>[[-0.045745849609375, -0.03900146484375, -0.06...</td>\n",
       "    </tr>\n",
       "    <tr>\n",
       "      <th>28416</th>\n",
       "      <td>66f4f87b821e116aacb31d62</td>\n",
       "      <td>3</td>\n",
       "      <td>the hood instrument panel fuse box rear trunk ...</td>\n",
       "      <td>[[-0.03729248046875, -0.01523590087890625, -0....</td>\n",
       "    </tr>\n",
       "    <tr>\n",
       "      <th>28417</th>\n",
       "      <td>66f4f87b821e116aacb31d62</td>\n",
       "      <td>4</td>\n",
       "      <td>the windows at the same time ; release the unl...</td>\n",
       "      <td>[[-0.0181121826171875, -0.0163116455078125, -0...</td>\n",
       "    </tr>\n",
       "    <tr>\n",
       "      <th>...</th>\n",
       "      <td>...</td>\n",
       "      <td>...</td>\n",
       "      <td>...</td>\n",
       "      <td>...</td>\n",
       "    </tr>\n",
       "    <tr>\n",
       "      <th>28671</th>\n",
       "      <td>66f4f87b821e116aacb31d62</td>\n",
       "      <td>258</td>\n",
       "      <td>the vehicle should be undertaken by profession...</td>\n",
       "      <td>[[-0.036224365234375, -0.0089263916015625, -0....</td>\n",
       "    </tr>\n",
       "    <tr>\n",
       "      <th>28672</th>\n",
       "      <td>66f4f87b821e116aacb31d62</td>\n",
       "      <td>259</td>\n",
       "      <td>if you need the vehicle to be towed, please ca...</td>\n",
       "      <td>[[0.01654052734375, -0.01369476318359375, 0.00...</td>\n",
       "    </tr>\n",
       "    <tr>\n",
       "      <th>28673</th>\n",
       "      <td>66f4f87b821e116aacb31d62</td>\n",
       "      <td>260</td>\n",
       "      <td>. when the parking brake is released and the v...</td>\n",
       "      <td>[[-0.01065826416015625, -0.022430419921875, -0...</td>\n",
       "    </tr>\n",
       "    <tr>\n",
       "      <th>28674</th>\n",
       "      <td>66f4f87b821e116aacb31d62</td>\n",
       "      <td>261</td>\n",
       "      <td>hours ), monitor it for one more hour to ensur...</td>\n",
       "      <td>[[-0.0087738037109375, -0.00901031494140625, -...</td>\n",
       "    </tr>\n",
       "    <tr>\n",
       "      <th>28675</th>\n",
       "      <td>66f4f87b821e116aacb31d62</td>\n",
       "      <td>262</td>\n",
       "      <td>/ user - instructions / en _ eu / et5 / index....</td>\n",
       "      <td>[[0.0017881393432617188, -0.005794525146484375...</td>\n",
       "    </tr>\n",
       "  </tbody>\n",
       "</table>\n",
       "<p>263 rows × 4 columns</p>\n",
       "</div>"
      ],
      "text/plain": [
       "                            _id  chunk_id  \\\n",
       "28413  66f4f87b821e116aacb31d62         0   \n",
       "28414  66f4f87b821e116aacb31d62         1   \n",
       "28415  66f4f87b821e116aacb31d62         2   \n",
       "28416  66f4f87b821e116aacb31d62         3   \n",
       "28417  66f4f87b821e116aacb31d62         4   \n",
       "...                         ...       ...   \n",
       "28671  66f4f87b821e116aacb31d62       258   \n",
       "28672  66f4f87b821e116aacb31d62       259   \n",
       "28673  66f4f87b821e116aacb31d62       260   \n",
       "28674  66f4f87b821e116aacb31d62       261   \n",
       "28675  66f4f87b821e116aacb31d62       262   \n",
       "\n",
       "                                              chunk_text  \\\n",
       "28413  et5 user manual user manual 2024 / 9 / 26 13 :...   \n",
       "28414  : this is to advise you on how to avoid possib...   \n",
       "28415  headrest adjustment seat massage mode seat hea...   \n",
       "28416  the hood instrument panel fuse box rear trunk ...   \n",
       "28417  the windows at the same time ; release the unl...   \n",
       "...                                                  ...   \n",
       "28671  the vehicle should be undertaken by profession...   \n",
       "28672  if you need the vehicle to be towed, please ca...   \n",
       "28673  . when the parking brake is released and the v...   \n",
       "28674  hours ), monitor it for one more hour to ensur...   \n",
       "28675  / user - instructions / en _ eu / et5 / index....   \n",
       "\n",
       "                                              embeddings  \n",
       "28413  [[-0.032562255859375, -0.0107574462890625, -0....  \n",
       "28414  [[-0.03607177734375, 0.003021240234375, -0.054...  \n",
       "28415  [[-0.045745849609375, -0.03900146484375, -0.06...  \n",
       "28416  [[-0.03729248046875, -0.01523590087890625, -0....  \n",
       "28417  [[-0.0181121826171875, -0.0163116455078125, -0...  \n",
       "...                                                  ...  \n",
       "28671  [[-0.036224365234375, -0.0089263916015625, -0....  \n",
       "28672  [[0.01654052734375, -0.01369476318359375, 0.00...  \n",
       "28673  [[-0.01065826416015625, -0.022430419921875, -0...  \n",
       "28674  [[-0.0087738037109375, -0.00901031494140625, -...  \n",
       "28675  [[0.0017881393432617188, -0.005794525146484375...  \n",
       "\n",
       "[263 rows x 4 columns]"
      ]
     },
     "execution_count": 11,
     "metadata": {},
     "output_type": "execute_result"
    }
   ],
   "source": [
    "df_context_simple[df_context_simple[\"_id\"] == id]"
   ]
  },
  {
   "cell_type": "code",
   "execution_count": 12,
   "metadata": {},
   "outputs": [
    {
     "name": "stdout",
     "output_type": "stream",
     "text": [
      "Question: In a NIO ET5, if you want the vehicle to automatically lock every time you leave without pressing the key, what should you do?\n",
      "A: In the settings menu on the central control screen, go to \"Vehicle Settings,\" find \"Lock Settings,\" and enable the \"Auto Lock\" feature.\n",
      "B: In the settings menu on the central control screen, go to \"Safety Settings,\" find the \"Auto Lock When Leaving Vehicle\" option, and enable it.\n",
      "C: Hold down the lock button on the key for 10 seconds until you hear a beep, and the vehicle will automatically enable the auto-lock feature.\n",
      "D: In the settings menu on the central control screen, go to \"Driver Assistance Settings,\" find the \"Auto Lock\" option, and enable it.\n"
     ]
    }
   ],
   "source": [
    "def format_question(question: str, choice_a: str, choice_b: str, choice_c: str, choice_d: str) -> str:\n",
    "    return f\"Question: {question}\\nA: {choice_a}\\nB: {choice_b}\\nC: {choice_c}\\nD: {choice_d}\"\n",
    "\n",
    "formatted_question = format_question(question, choice_a, choice_b, choice_c, choice_d)\n",
    "print(formatted_question)"
   ]
  },
  {
   "cell_type": "code",
   "execution_count": 13,
   "metadata": {},
   "outputs": [
    {
     "name": "stdout",
     "output_type": "stream",
     "text": [
      "A\n",
      "LLM answer == Correct answer: True\n"
     ]
    }
   ],
   "source": [
    "llm_answer = rag_agent.generate_response(formatted_question, df_context_simple, id, top=3)\n",
    "print(llm_answer)\n",
    "print(f\"LLM answer == Correct answer: {llm_answer == correct_answer}\")"
   ]
  },
  {
   "cell_type": "markdown",
   "metadata": {},
   "source": [
    "# Benchmarking Workflow"
   ]
  },
  {
   "cell_type": "code",
   "execution_count": null,
   "metadata": {},
   "outputs": [],
   "source": []
  }
 ],
 "metadata": {
  "kernelspec": {
   "display_name": "st311",
   "language": "python",
   "name": "python3"
  },
  "language_info": {
   "codemirror_mode": {
    "name": "ipython",
    "version": 3
   },
   "file_extension": ".py",
   "mimetype": "text/x-python",
   "name": "python",
   "nbconvert_exporter": "python",
   "pygments_lexer": "ipython3",
   "version": "3.11.11"
  }
 },
 "nbformat": 4,
 "nbformat_minor": 2
}
