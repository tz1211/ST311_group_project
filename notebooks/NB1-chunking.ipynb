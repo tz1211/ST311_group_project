{
 "cells": [
  {
   "cell_type": "markdown",
   "metadata": {},
   "source": [
    "# Setup"
   ]
  },
  {
   "cell_type": "code",
   "execution_count": 1,
   "metadata": {},
   "outputs": [
    {
     "data": {
      "application/vnd.jupyter.widget-view+json": {
       "model_id": "c0e5d19089fe488095c7653008eca3bd",
       "version_major": 2,
       "version_minor": 0
      },
      "text/plain": [
       "Fetching 30 files:   0%|          | 0/30 [00:00<?, ?it/s]"
      ]
     },
     "metadata": {},
     "output_type": "display_data"
    }
   ],
   "source": [
    "import sys\n",
    "\n",
    "if '..' not in sys.path:\n",
    "    sys.path.append('..')\n",
    "\n",
    "import pandas as pd \n",
    "import csv\n",
    "csv.field_size_limit(sys.maxsize)\n",
    "\n",
    "from tqdm import tqdm\n",
    "from statistics import mean\n",
    "from utils.embeddings_utils import compute_text_embedding \n",
    "from utils.chunking_utils import adaptive_semantic_chunking, simple_chunking, sentence_chunking\n",
    "\n",
    "import warnings\n",
    "warnings.filterwarnings(\"ignore\", category=FutureWarning)"
   ]
  },
  {
   "cell_type": "markdown",
   "metadata": {},
   "source": [
    "# Load LongBench Data"
   ]
  },
  {
   "cell_type": "code",
   "execution_count": 2,
   "metadata": {},
   "outputs": [
    {
     "data": {
      "text/html": [
       "<div>\n",
       "<style scoped>\n",
       "    .dataframe tbody tr th:only-of-type {\n",
       "        vertical-align: middle;\n",
       "    }\n",
       "\n",
       "    .dataframe tbody tr th {\n",
       "        vertical-align: top;\n",
       "    }\n",
       "\n",
       "    .dataframe thead th {\n",
       "        text-align: right;\n",
       "    }\n",
       "</style>\n",
       "<table border=\"1\" class=\"dataframe\">\n",
       "  <thead>\n",
       "    <tr style=\"text-align: right;\">\n",
       "      <th></th>\n",
       "      <th>_id</th>\n",
       "      <th>domain</th>\n",
       "      <th>sub_domain</th>\n",
       "      <th>difficulty</th>\n",
       "      <th>length</th>\n",
       "      <th>question</th>\n",
       "      <th>choice_A</th>\n",
       "      <th>choice_B</th>\n",
       "      <th>choice_C</th>\n",
       "      <th>choice_D</th>\n",
       "      <th>answer</th>\n",
       "      <th>context</th>\n",
       "      <th>context_tokens</th>\n",
       "      <th>within_context_window</th>\n",
       "    </tr>\n",
       "  </thead>\n",
       "  <tbody>\n",
       "    <tr>\n",
       "      <th>0</th>\n",
       "      <td>66f36490821e116aacb2cc22</td>\n",
       "      <td>Single-Document QA</td>\n",
       "      <td>Financial</td>\n",
       "      <td>easy</td>\n",
       "      <td>short</td>\n",
       "      <td>According to the report, how to promote the co...</td>\n",
       "      <td>Through technology empowerment, change the way...</td>\n",
       "      <td>Establish new types of courts, such as intelle...</td>\n",
       "      <td>Improve the work ability of office staff and s...</td>\n",
       "      <td>Use advanced information systems to improve th...</td>\n",
       "      <td>D</td>\n",
       "      <td>Contents\\nPreface.\\n.............................</td>\n",
       "      <td>38133</td>\n",
       "      <td>True</td>\n",
       "    </tr>\n",
       "    <tr>\n",
       "      <th>1</th>\n",
       "      <td>66ebed525a08c7b9b35e1cb4</td>\n",
       "      <td>Single-Document QA</td>\n",
       "      <td>Academic</td>\n",
       "      <td>hard</td>\n",
       "      <td>short</td>\n",
       "      <td>When Miller tried to answer the question \"shou...</td>\n",
       "      <td>Each must read for himself or herself and test...</td>\n",
       "      <td>Readers must reach a high standrad to some deg...</td>\n",
       "      <td>It is the readers' obligation to get the \"trut...</td>\n",
       "      <td>The performative interpretation of language tr...</td>\n",
       "      <td>B</td>\n",
       "      <td>Chapter Five\\nJOSEPH CONRAD:\\nSHOULD WE READ\\n...</td>\n",
       "      <td>24007</td>\n",
       "      <td>True</td>\n",
       "    </tr>\n",
       "    <tr>\n",
       "      <th>2</th>\n",
       "      <td>671b3cabbb02136c067d5252</td>\n",
       "      <td>Long-dialogue History Understanding</td>\n",
       "      <td>Agent history QA</td>\n",
       "      <td>hard</td>\n",
       "      <td>short</td>\n",
       "      <td>Which player got the least utility in the game?</td>\n",
       "      <td>player_1</td>\n",
       "      <td>player_3</td>\n",
       "      <td>player_5</td>\n",
       "      <td>player_7</td>\n",
       "      <td>B</td>\n",
       "      <td>{\\n  \"meta\": {\\n    \"name_exp\": \"gemini-1.0-pr...</td>\n",
       "      <td>43168</td>\n",
       "      <td>True</td>\n",
       "    </tr>\n",
       "    <tr>\n",
       "      <th>3</th>\n",
       "      <td>66ec0c4c821e116aacb1994a</td>\n",
       "      <td>Multi-Document QA</td>\n",
       "      <td>Academic</td>\n",
       "      <td>easy</td>\n",
       "      <td>medium</td>\n",
       "      <td>Which of the following statements is correct?</td>\n",
       "      <td>Both contractor data and data crawled from the...</td>\n",
       "      <td>All machine learning methods involved in the t...</td>\n",
       "      <td>Both voyager and VPT control Minecraft agents ...</td>\n",
       "      <td>VPT's modeling of action space is approximate ...</td>\n",
       "      <td>D</td>\n",
       "      <td>Video PreTraining (VPT): Learning to Act by\\nW...</td>\n",
       "      <td>67185</td>\n",
       "      <td>True</td>\n",
       "    </tr>\n",
       "    <tr>\n",
       "      <th>4</th>\n",
       "      <td>66f920d8bb02136c067c4b81</td>\n",
       "      <td>Single-Document QA</td>\n",
       "      <td>Literary</td>\n",
       "      <td>hard</td>\n",
       "      <td>medium</td>\n",
       "      <td>What is mainly symbolized by the frequent chol...</td>\n",
       "      <td>Confusion of The Times</td>\n",
       "      <td>The impermanence of the character's fate</td>\n",
       "      <td>Love is dangerous and uncontrollable</td>\n",
       "      <td>Social indifference</td>\n",
       "      <td>C</td>\n",
       "      <td>Chapter 1\\nIT WAS INEVITABLE: the scent of bit...</td>\n",
       "      <td>85218</td>\n",
       "      <td>True</td>\n",
       "    </tr>\n",
       "  </tbody>\n",
       "</table>\n",
       "</div>"
      ],
      "text/plain": [
       "                        _id                               domain  \\\n",
       "0  66f36490821e116aacb2cc22                   Single-Document QA   \n",
       "1  66ebed525a08c7b9b35e1cb4                   Single-Document QA   \n",
       "2  671b3cabbb02136c067d5252  Long-dialogue History Understanding   \n",
       "3  66ec0c4c821e116aacb1994a                    Multi-Document QA   \n",
       "4  66f920d8bb02136c067c4b81                   Single-Document QA   \n",
       "\n",
       "         sub_domain difficulty  length  \\\n",
       "0         Financial       easy   short   \n",
       "1          Academic       hard   short   \n",
       "2  Agent history QA       hard   short   \n",
       "3          Academic       easy  medium   \n",
       "4          Literary       hard  medium   \n",
       "\n",
       "                                            question  \\\n",
       "0  According to the report, how to promote the co...   \n",
       "1  When Miller tried to answer the question \"shou...   \n",
       "2    Which player got the least utility in the game?   \n",
       "3      Which of the following statements is correct?   \n",
       "4  What is mainly symbolized by the frequent chol...   \n",
       "\n",
       "                                            choice_A  \\\n",
       "0  Through technology empowerment, change the way...   \n",
       "1  Each must read for himself or herself and test...   \n",
       "2                                           player_1   \n",
       "3  Both contractor data and data crawled from the...   \n",
       "4                             Confusion of The Times   \n",
       "\n",
       "                                            choice_B  \\\n",
       "0  Establish new types of courts, such as intelle...   \n",
       "1  Readers must reach a high standrad to some deg...   \n",
       "2                                           player_3   \n",
       "3  All machine learning methods involved in the t...   \n",
       "4           The impermanence of the character's fate   \n",
       "\n",
       "                                            choice_C  \\\n",
       "0  Improve the work ability of office staff and s...   \n",
       "1  It is the readers' obligation to get the \"trut...   \n",
       "2                                           player_5   \n",
       "3  Both voyager and VPT control Minecraft agents ...   \n",
       "4               Love is dangerous and uncontrollable   \n",
       "\n",
       "                                            choice_D answer  \\\n",
       "0  Use advanced information systems to improve th...      D   \n",
       "1  The performative interpretation of language tr...      B   \n",
       "2                                           player_7      B   \n",
       "3  VPT's modeling of action space is approximate ...      D   \n",
       "4                                Social indifference      C   \n",
       "\n",
       "                                             context  context_tokens  \\\n",
       "0  Contents\\nPreface.\\n.............................           38133   \n",
       "1  Chapter Five\\nJOSEPH CONRAD:\\nSHOULD WE READ\\n...           24007   \n",
       "2  {\\n  \"meta\": {\\n    \"name_exp\": \"gemini-1.0-pr...           43168   \n",
       "3  Video PreTraining (VPT): Learning to Act by\\nW...           67185   \n",
       "4  Chapter 1\\nIT WAS INEVITABLE: the scent of bit...           85218   \n",
       "\n",
       "   within_context_window  \n",
       "0                   True  \n",
       "1                   True  \n",
       "2                   True  \n",
       "3                   True  \n",
       "4                   True  "
      ]
     },
     "execution_count": 2,
     "metadata": {},
     "output_type": "execute_result"
    }
   ],
   "source": [
    "df_longbench_filtered = pd.read_csv('../data/longbench_filtered.csv', delimiter=\"§\", engine='python')\n",
    "df_longbench_filtered.head()"
   ]
  },
  {
   "cell_type": "code",
   "execution_count": 3,
   "metadata": {},
   "outputs": [
    {
     "data": {
      "text/plain": [
       "(303, 14)"
      ]
     },
     "execution_count": 3,
     "metadata": {},
     "output_type": "execute_result"
    }
   ],
   "source": [
    "df_longbench_filtered.shape"
   ]
  },
  {
   "cell_type": "markdown",
   "metadata": {},
   "source": [
    "# Apply Adaptive Semantic Chunking for filtered LongBench"
   ]
  },
  {
   "cell_type": "code",
   "execution_count": 4,
   "metadata": {},
   "outputs": [
    {
     "name": "stderr",
     "output_type": "stream",
     "text": [
      "  0%|          | 0/5 [00:00<?, ?it/s]"
     ]
    },
    {
     "name": "stdout",
     "output_type": "stream",
     "text": [
      "text_chunks length 169\n"
     ]
    },
    {
     "name": "stderr",
     "output_type": "stream",
     "text": [
      " 20%|██        | 1/5 [01:32<06:09, 92.44s/it]"
     ]
    },
    {
     "name": "stdout",
     "output_type": "stream",
     "text": [
      "output_chunks_list length 27\n",
      "0.7060866950432272\n",
      "text_chunks length 105\n"
     ]
    },
    {
     "name": "stderr",
     "output_type": "stream",
     "text": [
      " 40%|████      | 2/5 [02:13<03:06, 62.10s/it]"
     ]
    },
    {
     "name": "stdout",
     "output_type": "stream",
     "text": [
      "output_chunks_list length 55\n",
      "0.6470268667754439\n",
      "text_chunks length 228\n"
     ]
    },
    {
     "name": "stderr",
     "output_type": "stream",
     "text": [
      " 60%|██████    | 3/5 [04:12<02:55, 88.00s/it]"
     ]
    },
    {
     "name": "stdout",
     "output_type": "stream",
     "text": [
      "output_chunks_list length 11\n",
      "0.8457554592341351\n",
      "text_chunks length 287\n"
     ]
    },
    {
     "name": "stderr",
     "output_type": "stream",
     "text": [
      " 80%|████████  | 4/5 [06:17<01:42, 102.78s/it]"
     ]
    },
    {
     "name": "stdout",
     "output_type": "stream",
     "text": [
      "output_chunks_list length 104\n",
      "0.6713605300739648\n",
      "text_chunks length 376\n"
     ]
    },
    {
     "name": "stderr",
     "output_type": "stream",
     "text": [
      "100%|██████████| 5/5 [09:00<00:00, 108.07s/it]"
     ]
    },
    {
     "name": "stdout",
     "output_type": "stream",
     "text": [
      "output_chunks_list length 183\n",
      "0.6500917495535873\n"
     ]
    },
    {
     "name": "stderr",
     "output_type": "stream",
     "text": [
      "\n"
     ]
    }
   ],
   "source": [
    "df_longbench_context_chunked_asc = pd.DataFrame(columns=[\"_id\", \"chunk_id\", \"chunk_text\", \"embeddings\"]) \n",
    "\n",
    "for _, row in tqdm(df_longbench_filtered[:5].iterrows(), total=len(df_longbench_filtered[:5])):\n",
    "    id = row[\"_id\"]\n",
    "    context = row[\"context\"]\n",
    "    chunk_list, embeddings_list, cosine_similarity_list = adaptive_semantic_chunking(context, similarity_threshold=0.75)\n",
    "    print(mean(cosine_similarity_list))\n",
    "    for i in range(len(chunk_list)):\n",
    "        chunk_text = chunk_list[i]\n",
    "        chunk_embedding = embeddings_list[i]\n",
    "        df_longbench_context_chunked_asc = pd.concat([df_longbench_context_chunked_asc, pd.DataFrame([{\"_id\": id, \"chunk_id\": i, \"chunk_text\": chunk_text, \"embeddings\": chunk_embedding}])], ignore_index=True)"
   ]
  },
  {
   "cell_type": "code",
   "execution_count": 5,
   "metadata": {},
   "outputs": [
    {
     "data": {
      "text/html": [
       "<div>\n",
       "<style scoped>\n",
       "    .dataframe tbody tr th:only-of-type {\n",
       "        vertical-align: middle;\n",
       "    }\n",
       "\n",
       "    .dataframe tbody tr th {\n",
       "        vertical-align: top;\n",
       "    }\n",
       "\n",
       "    .dataframe thead th {\n",
       "        text-align: right;\n",
       "    }\n",
       "</style>\n",
       "<table border=\"1\" class=\"dataframe\">\n",
       "  <thead>\n",
       "    <tr style=\"text-align: right;\">\n",
       "      <th></th>\n",
       "      <th>_id</th>\n",
       "      <th>chunk_id</th>\n",
       "      <th>chunk_text</th>\n",
       "      <th>embeddings</th>\n",
       "    </tr>\n",
       "  </thead>\n",
       "  <tbody>\n",
       "    <tr>\n",
       "      <th>0</th>\n",
       "      <td>66f36490821e116aacb2cc22</td>\n",
       "      <td>0</td>\n",
       "      <td>Contents\\nPreface.\\n.............................</td>\n",
       "      <td>[[-0.0235137939453125, 0.033905029296875, -0.0...</td>\n",
       "    </tr>\n",
       "    <tr>\n",
       "      <th>1</th>\n",
       "      <td>66f36490821e116aacb2cc22</td>\n",
       "      <td>1</td>\n",
       "      <td>By following the \\nidea of separating complica...</td>\n",
       "      <td>[[-0.072509765625, -0.0204620361328125, -0.010...</td>\n",
       "    </tr>\n",
       "    <tr>\n",
       "      <th>2</th>\n",
       "      <td>66f36490821e116aacb2cc22</td>\n",
       "      <td>2</td>\n",
       "      <td>Shenzhen Intermediate \\nPeople’s Court in Guan...</td>\n",
       "      <td>[[-0.0416259765625, -0.0021457672119140625, -0...</td>\n",
       "    </tr>\n",
       "    <tr>\n",
       "      <th>3</th>\n",
       "      <td>66f36490821e116aacb2cc22</td>\n",
       "      <td>3</td>\n",
       "      <td>Siming District People’s Court and Lujiang Not...</td>\n",
       "      <td>[[-0.06927490234375, -0.0158233642578125, -0.0...</td>\n",
       "    </tr>\n",
       "    <tr>\n",
       "      <th>4</th>\n",
       "      <td>66f36490821e116aacb2cc22</td>\n",
       "      <td>4</td>\n",
       "      <td>The \\nSupreme People’s Court has issued the re...</td>\n",
       "      <td>[[-0.0762939453125, -0.00177764892578125, -0.0...</td>\n",
       "    </tr>\n",
       "  </tbody>\n",
       "</table>\n",
       "</div>"
      ],
      "text/plain": [
       "                        _id chunk_id  \\\n",
       "0  66f36490821e116aacb2cc22        0   \n",
       "1  66f36490821e116aacb2cc22        1   \n",
       "2  66f36490821e116aacb2cc22        2   \n",
       "3  66f36490821e116aacb2cc22        3   \n",
       "4  66f36490821e116aacb2cc22        4   \n",
       "\n",
       "                                          chunk_text  \\\n",
       "0  Contents\\nPreface.\\n.............................   \n",
       "1  By following the \\nidea of separating complica...   \n",
       "2  Shenzhen Intermediate \\nPeople’s Court in Guan...   \n",
       "3  Siming District People’s Court and Lujiang Not...   \n",
       "4  The \\nSupreme People’s Court has issued the re...   \n",
       "\n",
       "                                          embeddings  \n",
       "0  [[-0.0235137939453125, 0.033905029296875, -0.0...  \n",
       "1  [[-0.072509765625, -0.0204620361328125, -0.010...  \n",
       "2  [[-0.0416259765625, -0.0021457672119140625, -0...  \n",
       "3  [[-0.06927490234375, -0.0158233642578125, -0.0...  \n",
       "4  [[-0.0762939453125, -0.00177764892578125, -0.0...  "
      ]
     },
     "execution_count": 5,
     "metadata": {},
     "output_type": "execute_result"
    }
   ],
   "source": [
    "df_longbench_context_chunked_asc.head()"
   ]
  },
  {
   "cell_type": "markdown",
   "metadata": {},
   "source": [
    "# Apply Simple Chunking for filtered LongBench"
   ]
  },
  {
   "cell_type": "code",
   "execution_count": null,
   "metadata": {},
   "outputs": [],
   "source": [
    "# TODO: Edit here for issue #1 "
   ]
  },
  {
   "cell_type": "markdown",
   "metadata": {},
   "source": [
    "# Apply Sentence Chunking for filtered LongBench"
   ]
  },
  {
   "cell_type": "code",
   "execution_count": null,
   "metadata": {},
   "outputs": [],
   "source": [
    "# TODO: Edit here for issue #2"
   ]
  }
 ],
 "metadata": {
  "kernelspec": {
   "display_name": "st311",
   "language": "python",
   "name": "python3"
  },
  "language_info": {
   "codemirror_mode": {
    "name": "ipython",
    "version": 3
   },
   "file_extension": ".py",
   "mimetype": "text/x-python",
   "name": "python",
   "nbconvert_exporter": "python",
   "pygments_lexer": "ipython3",
   "version": "3.11.11"
  }
 },
 "nbformat": 4,
 "nbformat_minor": 2
}
