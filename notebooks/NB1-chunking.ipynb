{
 "cells": [
  {
   "cell_type": "markdown",
   "metadata": {},
   "source": [
    "# Setup"
   ]
  },
  {
   "cell_type": "code",
   "execution_count": 1,
   "metadata": {},
   "outputs": [
    {
     "data": {
      "application/vnd.jupyter.widget-view+json": {
       "model_id": "c028a6dea8f8467e81ddee95dacd94ec",
       "version_major": 2,
       "version_minor": 0
      },
      "text/plain": [
       "Fetching 30 files:   0%|          | 0/30 [00:00<?, ?it/s]"
      ]
     },
     "metadata": {},
     "output_type": "display_data"
    }
   ],
   "source": [
    "import sys\n",
    "\n",
    "if '..' not in sys.path:\n",
    "    sys.path.append('..')\n",
    "\n",
    "import logging\n",
    "import pandas as pd \n",
    "import csv\n",
    "csv.field_size_limit(sys.maxsize)\n",
    "\n",
    "from tqdm import tqdm\n",
    "from statistics import mean\n",
    "from utils.embeddings_utils import compute_text_embedding \n",
    "from utils.chunking_utils import adaptive_semantic_chunking, simple_chunking, sentence_chunking\n",
    "\n",
    "import warnings\n",
    "warnings.filterwarnings(\"ignore\", category=FutureWarning)"
   ]
  },
  {
   "cell_type": "code",
   "execution_count": 2,
   "metadata": {},
   "outputs": [],
   "source": [
    "# Set up logging\n",
    "logging.basicConfig(\n",
    "    level=logging.INFO,  # Set to WARNING to mute INFO level logs\n",
    "    format='%(asctime)s - %(name)s - %(levelname)s - %(message)s',\n",
    "    handlers=[\n",
    "        logging.FileHandler('../logs/chunking.log')  # Remove StreamHandler to prevent console output\n",
    "    ]\n",
    ")\n",
    "\n",
    "logger = logging.getLogger(__name__)\n",
    "logger.setLevel(logging.INFO)  # Also set logger level to WARNING\n"
   ]
  },
  {
   "cell_type": "markdown",
   "metadata": {},
   "source": [
    "# Load LongBench Data"
   ]
  },
  {
   "cell_type": "code",
   "execution_count": 3,
   "metadata": {},
   "outputs": [
    {
     "data": {
      "text/html": [
       "<div>\n",
       "<style scoped>\n",
       "    .dataframe tbody tr th:only-of-type {\n",
       "        vertical-align: middle;\n",
       "    }\n",
       "\n",
       "    .dataframe tbody tr th {\n",
       "        vertical-align: top;\n",
       "    }\n",
       "\n",
       "    .dataframe thead th {\n",
       "        text-align: right;\n",
       "    }\n",
       "</style>\n",
       "<table border=\"1\" class=\"dataframe\">\n",
       "  <thead>\n",
       "    <tr style=\"text-align: right;\">\n",
       "      <th></th>\n",
       "      <th>_id</th>\n",
       "      <th>domain</th>\n",
       "      <th>sub_domain</th>\n",
       "      <th>difficulty</th>\n",
       "      <th>length</th>\n",
       "      <th>question</th>\n",
       "      <th>choice_A</th>\n",
       "      <th>choice_B</th>\n",
       "      <th>choice_C</th>\n",
       "      <th>choice_D</th>\n",
       "      <th>answer</th>\n",
       "      <th>context</th>\n",
       "      <th>context_tokens</th>\n",
       "      <th>within_context_window</th>\n",
       "    </tr>\n",
       "  </thead>\n",
       "  <tbody>\n",
       "    <tr>\n",
       "      <th>0</th>\n",
       "      <td>66f36490821e116aacb2cc22</td>\n",
       "      <td>Single-Document QA</td>\n",
       "      <td>Financial</td>\n",
       "      <td>easy</td>\n",
       "      <td>short</td>\n",
       "      <td>According to the report, how to promote the co...</td>\n",
       "      <td>Through technology empowerment, change the way...</td>\n",
       "      <td>Establish new types of courts, such as intelle...</td>\n",
       "      <td>Improve the work ability of office staff and s...</td>\n",
       "      <td>Use advanced information systems to improve th...</td>\n",
       "      <td>D</td>\n",
       "      <td>Contents\\nPreface.\\n.............................</td>\n",
       "      <td>38133</td>\n",
       "      <td>True</td>\n",
       "    </tr>\n",
       "    <tr>\n",
       "      <th>1</th>\n",
       "      <td>66ebed525a08c7b9b35e1cb4</td>\n",
       "      <td>Single-Document QA</td>\n",
       "      <td>Academic</td>\n",
       "      <td>hard</td>\n",
       "      <td>short</td>\n",
       "      <td>When Miller tried to answer the question \"shou...</td>\n",
       "      <td>Each must read for himself or herself and test...</td>\n",
       "      <td>Readers must reach a high standrad to some deg...</td>\n",
       "      <td>It is the readers' obligation to get the \"trut...</td>\n",
       "      <td>The performative interpretation of language tr...</td>\n",
       "      <td>B</td>\n",
       "      <td>Chapter Five\\nJOSEPH CONRAD:\\nSHOULD WE READ\\n...</td>\n",
       "      <td>24007</td>\n",
       "      <td>True</td>\n",
       "    </tr>\n",
       "    <tr>\n",
       "      <th>2</th>\n",
       "      <td>671b3cabbb02136c067d5252</td>\n",
       "      <td>Long-dialogue History Understanding</td>\n",
       "      <td>Agent history QA</td>\n",
       "      <td>hard</td>\n",
       "      <td>short</td>\n",
       "      <td>Which player got the least utility in the game?</td>\n",
       "      <td>player_1</td>\n",
       "      <td>player_3</td>\n",
       "      <td>player_5</td>\n",
       "      <td>player_7</td>\n",
       "      <td>B</td>\n",
       "      <td>{\\n  \"meta\": {\\n    \"name_exp\": \"gemini-1.0-pr...</td>\n",
       "      <td>43168</td>\n",
       "      <td>True</td>\n",
       "    </tr>\n",
       "    <tr>\n",
       "      <th>3</th>\n",
       "      <td>66ec0c4c821e116aacb1994a</td>\n",
       "      <td>Multi-Document QA</td>\n",
       "      <td>Academic</td>\n",
       "      <td>easy</td>\n",
       "      <td>medium</td>\n",
       "      <td>Which of the following statements is correct?</td>\n",
       "      <td>Both contractor data and data crawled from the...</td>\n",
       "      <td>All machine learning methods involved in the t...</td>\n",
       "      <td>Both voyager and VPT control Minecraft agents ...</td>\n",
       "      <td>VPT's modeling of action space is approximate ...</td>\n",
       "      <td>D</td>\n",
       "      <td>Video PreTraining (VPT): Learning to Act by\\nW...</td>\n",
       "      <td>67185</td>\n",
       "      <td>True</td>\n",
       "    </tr>\n",
       "    <tr>\n",
       "      <th>4</th>\n",
       "      <td>66f920d8bb02136c067c4b81</td>\n",
       "      <td>Single-Document QA</td>\n",
       "      <td>Literary</td>\n",
       "      <td>hard</td>\n",
       "      <td>medium</td>\n",
       "      <td>What is mainly symbolized by the frequent chol...</td>\n",
       "      <td>Confusion of The Times</td>\n",
       "      <td>The impermanence of the character's fate</td>\n",
       "      <td>Love is dangerous and uncontrollable</td>\n",
       "      <td>Social indifference</td>\n",
       "      <td>C</td>\n",
       "      <td>Chapter 1\\nIT WAS INEVITABLE: the scent of bit...</td>\n",
       "      <td>85218</td>\n",
       "      <td>True</td>\n",
       "    </tr>\n",
       "  </tbody>\n",
       "</table>\n",
       "</div>"
      ],
      "text/plain": [
       "                        _id                               domain  \\\n",
       "0  66f36490821e116aacb2cc22                   Single-Document QA   \n",
       "1  66ebed525a08c7b9b35e1cb4                   Single-Document QA   \n",
       "2  671b3cabbb02136c067d5252  Long-dialogue History Understanding   \n",
       "3  66ec0c4c821e116aacb1994a                    Multi-Document QA   \n",
       "4  66f920d8bb02136c067c4b81                   Single-Document QA   \n",
       "\n",
       "         sub_domain difficulty  length  \\\n",
       "0         Financial       easy   short   \n",
       "1          Academic       hard   short   \n",
       "2  Agent history QA       hard   short   \n",
       "3          Academic       easy  medium   \n",
       "4          Literary       hard  medium   \n",
       "\n",
       "                                            question  \\\n",
       "0  According to the report, how to promote the co...   \n",
       "1  When Miller tried to answer the question \"shou...   \n",
       "2    Which player got the least utility in the game?   \n",
       "3      Which of the following statements is correct?   \n",
       "4  What is mainly symbolized by the frequent chol...   \n",
       "\n",
       "                                            choice_A  \\\n",
       "0  Through technology empowerment, change the way...   \n",
       "1  Each must read for himself or herself and test...   \n",
       "2                                           player_1   \n",
       "3  Both contractor data and data crawled from the...   \n",
       "4                             Confusion of The Times   \n",
       "\n",
       "                                            choice_B  \\\n",
       "0  Establish new types of courts, such as intelle...   \n",
       "1  Readers must reach a high standrad to some deg...   \n",
       "2                                           player_3   \n",
       "3  All machine learning methods involved in the t...   \n",
       "4           The impermanence of the character's fate   \n",
       "\n",
       "                                            choice_C  \\\n",
       "0  Improve the work ability of office staff and s...   \n",
       "1  It is the readers' obligation to get the \"trut...   \n",
       "2                                           player_5   \n",
       "3  Both voyager and VPT control Minecraft agents ...   \n",
       "4               Love is dangerous and uncontrollable   \n",
       "\n",
       "                                            choice_D answer  \\\n",
       "0  Use advanced information systems to improve th...      D   \n",
       "1  The performative interpretation of language tr...      B   \n",
       "2                                           player_7      B   \n",
       "3  VPT's modeling of action space is approximate ...      D   \n",
       "4                                Social indifference      C   \n",
       "\n",
       "                                             context  context_tokens  \\\n",
       "0  Contents\\nPreface.\\n.............................           38133   \n",
       "1  Chapter Five\\nJOSEPH CONRAD:\\nSHOULD WE READ\\n...           24007   \n",
       "2  {\\n  \"meta\": {\\n    \"name_exp\": \"gemini-1.0-pr...           43168   \n",
       "3  Video PreTraining (VPT): Learning to Act by\\nW...           67185   \n",
       "4  Chapter 1\\nIT WAS INEVITABLE: the scent of bit...           85218   \n",
       "\n",
       "   within_context_window  \n",
       "0                   True  \n",
       "1                   True  \n",
       "2                   True  \n",
       "3                   True  \n",
       "4                   True  "
      ]
     },
     "execution_count": 3,
     "metadata": {},
     "output_type": "execute_result"
    }
   ],
   "source": [
    "df_longbench_filtered = pd.read_csv('../data/longbench_filtered.csv', delimiter=\"§\", engine='python')\n",
    "df_longbench_filtered.head()"
   ]
  },
  {
   "cell_type": "code",
   "execution_count": 4,
   "metadata": {},
   "outputs": [
    {
     "data": {
      "text/plain": [
       "(303, 14)"
      ]
     },
     "execution_count": 4,
     "metadata": {},
     "output_type": "execute_result"
    }
   ],
   "source": [
    "df_longbench_filtered.shape"
   ]
  },
  {
   "cell_type": "markdown",
   "metadata": {},
   "source": [
    "# Apply Adaptive Semantic Chunking for filtered LongBench"
   ]
  },
  {
   "cell_type": "code",
   "execution_count": 6,
   "metadata": {},
   "outputs": [
    {
     "name": "stderr",
     "output_type": "stream",
     "text": [
      "100%|██████████| 303/303 [7:48:47<00:00, 92.83s/it]   \n"
     ]
    }
   ],
   "source": [
    "df_longbench_context_chunked_asc = pd.DataFrame(columns=[\"_id\", \"chunk_id\", \"chunk_text\", \"embeddings\"]) \n",
    "\n",
    "for _, row in tqdm(df_longbench_filtered.iterrows(), total=len(df_longbench_filtered)):\n",
    "    logger.info(f\"Processing row {row['_id']} #########################################################\")\n",
    "    id = row[\"_id\"]\n",
    "    context = row[\"context\"]\n",
    "    chunk_list, embeddings_list, cosine_similarity_list = adaptive_semantic_chunking(context, similarity_threshold=0.75)\n",
    "    logger.info(f\"Mean cosine similarity: {mean(cosine_similarity_list)}\")\n",
    "    for i in range(len(chunk_list)):\n",
    "        chunk_text = chunk_list[i]\n",
    "        chunk_embedding = embeddings_list[i]\n",
    "        df_longbench_context_chunked_asc = pd.concat([df_longbench_context_chunked_asc, pd.DataFrame([{\"_id\": id, \"chunk_id\": i, \"chunk_text\": chunk_text, \"embeddings\": chunk_embedding}])], ignore_index=True)"
   ]
  },
  {
   "cell_type": "code",
   "execution_count": 7,
   "metadata": {},
   "outputs": [
    {
     "data": {
      "text/html": [
       "<div>\n",
       "<style scoped>\n",
       "    .dataframe tbody tr th:only-of-type {\n",
       "        vertical-align: middle;\n",
       "    }\n",
       "\n",
       "    .dataframe tbody tr th {\n",
       "        vertical-align: top;\n",
       "    }\n",
       "\n",
       "    .dataframe thead th {\n",
       "        text-align: right;\n",
       "    }\n",
       "</style>\n",
       "<table border=\"1\" class=\"dataframe\">\n",
       "  <thead>\n",
       "    <tr style=\"text-align: right;\">\n",
       "      <th></th>\n",
       "      <th>_id</th>\n",
       "      <th>chunk_id</th>\n",
       "      <th>chunk_text</th>\n",
       "      <th>embeddings</th>\n",
       "    </tr>\n",
       "  </thead>\n",
       "  <tbody>\n",
       "    <tr>\n",
       "      <th>0</th>\n",
       "      <td>66f36490821e116aacb2cc22</td>\n",
       "      <td>0</td>\n",
       "      <td>Contents\\nPreface.\\n.............................</td>\n",
       "      <td>[[-0.0290374755859375, -0.0050048828125, -0.03...</td>\n",
       "    </tr>\n",
       "    <tr>\n",
       "      <th>1</th>\n",
       "      <td>66f36490821e116aacb2cc22</td>\n",
       "      <td>1</td>\n",
       "      <td>Advancing the Construction of Intelligent Cour...</td>\n",
       "      <td>[[-0.0261077880859375, 0.0311126708984375, 0.0...</td>\n",
       "    </tr>\n",
       "    <tr>\n",
       "      <th>2</th>\n",
       "      <td>66f36490821e116aacb2cc22</td>\n",
       "      <td>2</td>\n",
       "      <td>67\\n-\\n-\\nJudicial Reform of Chinese Courts（20...</td>\n",
       "      <td>[[-0.009765625, 0.031280517578125, -0.04086303...</td>\n",
       "    </tr>\n",
       "    <tr>\n",
       "      <th>3</th>\n",
       "      <td>66f36490821e116aacb2cc22</td>\n",
       "      <td>3</td>\n",
       "      <td>The said three Programs served as the basis of...</td>\n",
       "      <td>[[0.00789642333984375, 0.01081085205078125, -0...</td>\n",
       "    </tr>\n",
       "    <tr>\n",
       "      <th>4</th>\n",
       "      <td>66f36490821e116aacb2cc22</td>\n",
       "      <td>4</td>\n",
       "      <td>In consideration that the improvement of class...</td>\n",
       "      <td>[[-0.045562744140625, 0.043731689453125, -0.01...</td>\n",
       "    </tr>\n",
       "  </tbody>\n",
       "</table>\n",
       "</div>"
      ],
      "text/plain": [
       "                        _id chunk_id  \\\n",
       "0  66f36490821e116aacb2cc22        0   \n",
       "1  66f36490821e116aacb2cc22        1   \n",
       "2  66f36490821e116aacb2cc22        2   \n",
       "3  66f36490821e116aacb2cc22        3   \n",
       "4  66f36490821e116aacb2cc22        4   \n",
       "\n",
       "                                          chunk_text  \\\n",
       "0  Contents\\nPreface.\\n.............................   \n",
       "1  Advancing the Construction of Intelligent Cour...   \n",
       "2  67\\n-\\n-\\nJudicial Reform of Chinese Courts（20...   \n",
       "3  The said three Programs served as the basis of...   \n",
       "4  In consideration that the improvement of class...   \n",
       "\n",
       "                                          embeddings  \n",
       "0  [[-0.0290374755859375, -0.0050048828125, -0.03...  \n",
       "1  [[-0.0261077880859375, 0.0311126708984375, 0.0...  \n",
       "2  [[-0.009765625, 0.031280517578125, -0.04086303...  \n",
       "3  [[0.00789642333984375, 0.01081085205078125, -0...  \n",
       "4  [[-0.045562744140625, 0.043731689453125, -0.01...  "
      ]
     },
     "execution_count": 7,
     "metadata": {},
     "output_type": "execute_result"
    }
   ],
   "source": [
    "df_longbench_context_chunked_asc.head()"
   ]
  },
  {
   "cell_type": "code",
   "execution_count": 8,
   "metadata": {},
   "outputs": [],
   "source": [
    "# df_longbench_context_chunked_asc.to_csv(\"../data/longbench_context_chunked_asc.csv\", index=False, sep=\"§\")"
   ]
  },
  {
   "cell_type": "markdown",
   "metadata": {},
   "source": [
    "# Apply Simple Chunking for filtered LongBench"
   ]
  },
  {
   "cell_type": "code",
   "execution_count": null,
   "metadata": {},
   "outputs": [],
   "source": [
    "# TODO: Edit here for issue #1 "
   ]
  },
  {
   "cell_type": "markdown",
   "metadata": {},
   "source": [
    "# Apply Sentence Chunking for filtered LongBench"
   ]
  },
  {
   "cell_type": "code",
   "execution_count": null,
   "metadata": {},
   "outputs": [],
   "source": [
    "# TODO: Edit here for issue #2"
   ]
  }
 ],
 "metadata": {
  "kernelspec": {
   "display_name": "st311",
   "language": "python",
   "name": "python3"
  },
  "language_info": {
   "codemirror_mode": {
    "name": "ipython",
    "version": 3
   },
   "file_extension": ".py",
   "mimetype": "text/x-python",
   "name": "python",
   "nbconvert_exporter": "python",
   "pygments_lexer": "ipython3",
   "version": "3.11.11"
  }
 },
 "nbformat": 4,
 "nbformat_minor": 2
}
