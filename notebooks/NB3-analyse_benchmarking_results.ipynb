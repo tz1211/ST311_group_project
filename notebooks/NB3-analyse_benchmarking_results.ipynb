import pandas as pd

df = pd.read_csv("data/longbench_results.csv")
df.head()
