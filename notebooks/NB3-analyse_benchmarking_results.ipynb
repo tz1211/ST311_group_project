{
 "cells": [
  {
   "cell_type": "markdown",
   "id": "1ccc9584",
   "metadata": {},
   "source": [
    "# NB3 - Analyse Benchmarking Results"
   ]
  },
  {
   "cell_type": "markdown",
   "id": "da3657ba",
   "metadata": {},
   "source": [
    "## 1. Import Libraries and Load Data\n"
   ]
  },
  {
   "cell_type": "code",
   "execution_count": 2,
   "id": "9c0c2166",
   "metadata": {},
   "outputs": [
    {
     "name": "stdout",
     "output_type": "stream",
     "text": [
      "Intel MKL WARNING: Support of Intel(R) Streaming SIMD Extensions 4.2 (Intel(R) SSE4.2) enabled only processors has been deprecated. Intel oneAPI Math Kernel Library 2025.0 will require Intel(R) Advanced Vector Extensions (Intel(R) AVX) instructions.\n",
      "Intel MKL WARNING: Support of Intel(R) Streaming SIMD Extensions 4.2 (Intel(R) SSE4.2) enabled only processors has been deprecated. Intel oneAPI Math Kernel Library 2025.0 will require Intel(R) Advanced Vector Extensions (Intel(R) AVX) instructions.\n",
      "/Users/marym/Documents/Programming/Python/ST311/ST311_group_project/notebooks\n"
     ]
    },
    {
     "data": {
      "text/html": [
       "<div>\n",
       "<style scoped>\n",
       "    .dataframe tbody tr th:only-of-type {\n",
       "        vertical-align: middle;\n",
       "    }\n",
       "\n",
       "    .dataframe tbody tr th {\n",
       "        vertical-align: top;\n",
       "    }\n",
       "\n",
       "    .dataframe thead th {\n",
       "        text-align: right;\n",
       "    }\n",
       "</style>\n",
       "<table border=\"1\" class=\"dataframe\">\n",
       "  <thead>\n",
       "    <tr style=\"text-align: right;\">\n",
       "      <th></th>\n",
       "      <th>_id</th>\n",
       "      <th>domain</th>\n",
       "      <th>sub_domain</th>\n",
       "      <th>difficulty</th>\n",
       "      <th>length</th>\n",
       "      <th>question</th>\n",
       "      <th>choice_A</th>\n",
       "      <th>choice_B</th>\n",
       "      <th>choice_C</th>\n",
       "      <th>choice_D</th>\n",
       "      <th>...</th>\n",
       "      <th>context_tokens</th>\n",
       "      <th>within_context_window</th>\n",
       "      <th>llm_answer_simple</th>\n",
       "      <th>input_tokens_simple</th>\n",
       "      <th>llm_answer_sentence</th>\n",
       "      <th>input_tokens_sentence</th>\n",
       "      <th>llm_answer_asc</th>\n",
       "      <th>input_tokens_asc</th>\n",
       "      <th>llm_answer_lc</th>\n",
       "      <th>input_tokens_lc</th>\n",
       "    </tr>\n",
       "  </thead>\n",
       "  <tbody>\n",
       "    <tr>\n",
       "      <th>0</th>\n",
       "      <td>66f36490821e116aacb2cc22</td>\n",
       "      <td>Single-Document QA</td>\n",
       "      <td>Financial</td>\n",
       "      <td>easy</td>\n",
       "      <td>short</td>\n",
       "      <td>According to the report, how to promote the co...</td>\n",
       "      <td>Through technology empowerment, change the way...</td>\n",
       "      <td>Establish new types of courts, such as intelle...</td>\n",
       "      <td>Improve the work ability of office staff and s...</td>\n",
       "      <td>Use advanced information systems to improve th...</td>\n",
       "      <td>...</td>\n",
       "      <td>38133</td>\n",
       "      <td>True</td>\n",
       "      <td>A</td>\n",
       "      <td>3262</td>\n",
       "      <td>D</td>\n",
       "      <td>2145</td>\n",
       "      <td>A</td>\n",
       "      <td>2822</td>\n",
       "      <td>A</td>\n",
       "      <td>35327</td>\n",
       "    </tr>\n",
       "    <tr>\n",
       "      <th>1</th>\n",
       "      <td>66ebed525a08c7b9b35e1cb4</td>\n",
       "      <td>Single-Document QA</td>\n",
       "      <td>Academic</td>\n",
       "      <td>hard</td>\n",
       "      <td>short</td>\n",
       "      <td>When Miller tried to answer the question \"shou...</td>\n",
       "      <td>Each must read for himself or herself and test...</td>\n",
       "      <td>Readers must reach a high standrad to some deg...</td>\n",
       "      <td>It is the readers' obligation to get the \"trut...</td>\n",
       "      <td>The performative interpretation of language tr...</td>\n",
       "      <td>...</td>\n",
       "      <td>24007</td>\n",
       "      <td>True</td>\n",
       "      <td>B</td>\n",
       "      <td>2991</td>\n",
       "      <td>A</td>\n",
       "      <td>2582</td>\n",
       "      <td>A</td>\n",
       "      <td>2149</td>\n",
       "      <td>B</td>\n",
       "      <td>25610</td>\n",
       "    </tr>\n",
       "    <tr>\n",
       "      <th>2</th>\n",
       "      <td>671b3cabbb02136c067d5252</td>\n",
       "      <td>Long-dialogue History Understanding</td>\n",
       "      <td>Agent history QA</td>\n",
       "      <td>hard</td>\n",
       "      <td>short</td>\n",
       "      <td>Which player got the least utility in the game?</td>\n",
       "      <td>player_1</td>\n",
       "      <td>player_3</td>\n",
       "      <td>player_5</td>\n",
       "      <td>player_7</td>\n",
       "      <td>...</td>\n",
       "      <td>43168</td>\n",
       "      <td>True</td>\n",
       "      <td>A</td>\n",
       "      <td>2549</td>\n",
       "      <td>C</td>\n",
       "      <td>2323</td>\n",
       "      <td>B</td>\n",
       "      <td>47185</td>\n",
       "      <td>B</td>\n",
       "      <td>47177</td>\n",
       "    </tr>\n",
       "    <tr>\n",
       "      <th>3</th>\n",
       "      <td>66ec0c4c821e116aacb1994a</td>\n",
       "      <td>Multi-Document QA</td>\n",
       "      <td>Academic</td>\n",
       "      <td>easy</td>\n",
       "      <td>medium</td>\n",
       "      <td>Which of the following statements is correct?</td>\n",
       "      <td>Both contractor data and data crawled from the...</td>\n",
       "      <td>All machine learning methods involved in the t...</td>\n",
       "      <td>Both voyager and VPT control Minecraft agents ...</td>\n",
       "      <td>VPT's modeling of action space is approximate ...</td>\n",
       "      <td>...</td>\n",
       "      <td>67185</td>\n",
       "      <td>True</td>\n",
       "      <td>A</td>\n",
       "      <td>2881</td>\n",
       "      <td>A</td>\n",
       "      <td>2462</td>\n",
       "      <td>A</td>\n",
       "      <td>2012</td>\n",
       "      <td>B</td>\n",
       "      <td>66821</td>\n",
       "    </tr>\n",
       "    <tr>\n",
       "      <th>4</th>\n",
       "      <td>66f920d8bb02136c067c4b81</td>\n",
       "      <td>Single-Document QA</td>\n",
       "      <td>Literary</td>\n",
       "      <td>hard</td>\n",
       "      <td>medium</td>\n",
       "      <td>What is mainly symbolized by the frequent chol...</td>\n",
       "      <td>Confusion of The Times</td>\n",
       "      <td>The impermanence of the character's fate</td>\n",
       "      <td>Love is dangerous and uncontrollable</td>\n",
       "      <td>Social indifference</td>\n",
       "      <td>...</td>\n",
       "      <td>85218</td>\n",
       "      <td>True</td>\n",
       "      <td>C</td>\n",
       "      <td>2855</td>\n",
       "      <td>C</td>\n",
       "      <td>2825</td>\n",
       "      <td>B</td>\n",
       "      <td>3329</td>\n",
       "      <td>D</td>\n",
       "      <td>95095</td>\n",
       "    </tr>\n",
       "  </tbody>\n",
       "</table>\n",
       "<p>5 rows × 22 columns</p>\n",
       "</div>"
      ],
      "text/plain": [
       "                        _id                               domain  \\\n",
       "0  66f36490821e116aacb2cc22                   Single-Document QA   \n",
       "1  66ebed525a08c7b9b35e1cb4                   Single-Document QA   \n",
       "2  671b3cabbb02136c067d5252  Long-dialogue History Understanding   \n",
       "3  66ec0c4c821e116aacb1994a                    Multi-Document QA   \n",
       "4  66f920d8bb02136c067c4b81                   Single-Document QA   \n",
       "\n",
       "         sub_domain difficulty  length  \\\n",
       "0         Financial       easy   short   \n",
       "1          Academic       hard   short   \n",
       "2  Agent history QA       hard   short   \n",
       "3          Academic       easy  medium   \n",
       "4          Literary       hard  medium   \n",
       "\n",
       "                                            question  \\\n",
       "0  According to the report, how to promote the co...   \n",
       "1  When Miller tried to answer the question \"shou...   \n",
       "2    Which player got the least utility in the game?   \n",
       "3      Which of the following statements is correct?   \n",
       "4  What is mainly symbolized by the frequent chol...   \n",
       "\n",
       "                                            choice_A  \\\n",
       "0  Through technology empowerment, change the way...   \n",
       "1  Each must read for himself or herself and test...   \n",
       "2                                           player_1   \n",
       "3  Both contractor data and data crawled from the...   \n",
       "4                             Confusion of The Times   \n",
       "\n",
       "                                            choice_B  \\\n",
       "0  Establish new types of courts, such as intelle...   \n",
       "1  Readers must reach a high standrad to some deg...   \n",
       "2                                           player_3   \n",
       "3  All machine learning methods involved in the t...   \n",
       "4           The impermanence of the character's fate   \n",
       "\n",
       "                                            choice_C  \\\n",
       "0  Improve the work ability of office staff and s...   \n",
       "1  It is the readers' obligation to get the \"trut...   \n",
       "2                                           player_5   \n",
       "3  Both voyager and VPT control Minecraft agents ...   \n",
       "4               Love is dangerous and uncontrollable   \n",
       "\n",
       "                                            choice_D  ... context_tokens  \\\n",
       "0  Use advanced information systems to improve th...  ...          38133   \n",
       "1  The performative interpretation of language tr...  ...          24007   \n",
       "2                                           player_7  ...          43168   \n",
       "3  VPT's modeling of action space is approximate ...  ...          67185   \n",
       "4                                Social indifference  ...          85218   \n",
       "\n",
       "  within_context_window  llm_answer_simple  input_tokens_simple  \\\n",
       "0                  True                  A                 3262   \n",
       "1                  True                  B                 2991   \n",
       "2                  True                  A                 2549   \n",
       "3                  True                  A                 2881   \n",
       "4                  True                  C                 2855   \n",
       "\n",
       "  llm_answer_sentence  input_tokens_sentence llm_answer_asc  input_tokens_asc  \\\n",
       "0                   D                   2145              A              2822   \n",
       "1                   A                   2582              A              2149   \n",
       "2                   C                   2323              B             47185   \n",
       "3                   A                   2462              A              2012   \n",
       "4                   C                   2825              B              3329   \n",
       "\n",
       "  llm_answer_lc  input_tokens_lc  \n",
       "0             A            35327  \n",
       "1             B            25610  \n",
       "2             B            47177  \n",
       "3             B            66821  \n",
       "4             D            95095  \n",
       "\n",
       "[5 rows x 22 columns]"
      ]
     },
     "execution_count": 2,
     "metadata": {},
     "output_type": "execute_result"
    }
   ],
   "source": [
    "import pandas as pd\n",
    "import os\n",
    "import csv\n",
    "import sys\n",
    "print(os.getcwd())\n",
    "\n",
    "csv.field_size_limit(sys.maxsize)\n",
    "df = pd.read_csv('../data/longbench_results.csv', delimiter='§', engine=\"python\")\n",
    "df.head()\n"
   ]
  },
  {
   "cell_type": "markdown",
   "id": "1dcf241c",
   "metadata": {},
   "source": [
    "## 2. Overall Accuracy by Method"
   ]
  },
  {
   "cell_type": "code",
   "execution_count": 3,
   "id": "105f1981",
   "metadata": {},
   "outputs": [
    {
     "name": "stdout",
     "output_type": "stream",
     "text": [
      "['_id', 'domain', 'sub_domain', 'difficulty', 'length', 'question', 'choice_A', 'choice_B', 'choice_C', 'choice_D', 'answer', 'context', 'context_tokens', 'within_context_window', 'llm_answer_simple', 'input_tokens_simple', 'llm_answer_sentence', 'input_tokens_sentence', 'llm_answer_asc', 'input_tokens_asc', 'llm_answer_lc', 'input_tokens_lc']\n",
      "0    D\n",
      "1    B\n",
      "2    B\n",
      "3    D\n",
      "4    C\n",
      "5    D\n",
      "6    A\n",
      "7    A\n",
      "8    B\n",
      "9    B\n",
      "Name: answer, dtype: object\n"
     ]
    }
   ],
   "source": [
    "print(df.columns.tolist()) \n",
    "df.head()  \n",
    "print(df[\"answer\"].head(10))"
   ]
  },
  {
   "cell_type": "code",
   "execution_count": 4,
   "id": "493807a7",
   "metadata": {},
   "outputs": [
    {
     "data": {
      "text/html": [
       "<div>\n",
       "<style scoped>\n",
       "    .dataframe tbody tr th:only-of-type {\n",
       "        vertical-align: middle;\n",
       "    }\n",
       "\n",
       "    .dataframe tbody tr th {\n",
       "        vertical-align: top;\n",
       "    }\n",
       "\n",
       "    .dataframe thead th {\n",
       "        text-align: right;\n",
       "    }\n",
       "</style>\n",
       "<table border=\"1\" class=\"dataframe\">\n",
       "  <thead>\n",
       "    <tr style=\"text-align: right;\">\n",
       "      <th></th>\n",
       "      <th>accuracy</th>\n",
       "    </tr>\n",
       "  </thead>\n",
       "  <tbody>\n",
       "    <tr>\n",
       "      <th>llm_answer_lc</th>\n",
       "      <td>0.438944</td>\n",
       "    </tr>\n",
       "    <tr>\n",
       "      <th>llm_answer_simple</th>\n",
       "      <td>0.422442</td>\n",
       "    </tr>\n",
       "    <tr>\n",
       "      <th>llm_answer_asc</th>\n",
       "      <td>0.422442</td>\n",
       "    </tr>\n",
       "    <tr>\n",
       "      <th>llm_answer_sentence</th>\n",
       "      <td>0.386139</td>\n",
       "    </tr>\n",
       "  </tbody>\n",
       "</table>\n",
       "</div>"
      ],
      "text/plain": [
       "                     accuracy\n",
       "llm_answer_lc        0.438944\n",
       "llm_answer_simple    0.422442\n",
       "llm_answer_asc       0.422442\n",
       "llm_answer_sentence  0.386139"
      ]
     },
     "metadata": {},
     "output_type": "display_data"
    }
   ],
   "source": [
    "# Build columns to indicate whether each method generate the correct answer (compare to column \"answer\")\n",
    "methods = [\"llm_answer_simple\", \"llm_answer_sentence\", \"llm_answer_asc\", \"llm_answer_lc\"]\n",
    "\n",
    "for method in methods:\n",
    "    df[f\"y_or_n_{method}\"] = df[method] == df[\"answer\"]\n",
    "\n",
    "# Define \"accuracy\" as the no. of correct answers divided by the total no. of answers\n",
    "accuracy = {\n",
    "    method: df[f\"y_or_n_{method}\"].mean()\n",
    "    for method in methods\n",
    "}\n",
    "\n",
    "accuracy_df = pd.DataFrame.from_dict(accuracy, orient=\"index\", columns=[\"accuracy\"])\n",
    "accuracy_df = accuracy_df.sort_values(by=\"accuracy\", ascending=False)\n",
    "display(accuracy_df)\n"
   ]
  },
  {
   "cell_type": "markdown",
   "id": "10fed371",
   "metadata": {},
   "source": [
    "## 3. Token Usage Comparison: Long-context vs RAG (Average)"
   ]
  },
  {
   "cell_type": "code",
   "execution_count": 5,
   "id": "ad4dea08",
   "metadata": {},
   "outputs": [
    {
     "name": "stdout",
     "output_type": "stream",
     "text": [
      "['input_tokens_simple', 'input_tokens_sentence', 'input_tokens_asc', 'input_tokens_lc']\n"
     ]
    }
   ],
   "source": [
    "print([col for col in df.columns if col.startswith(\"input_tokens\")])"
   ]
  },
  {
   "cell_type": "markdown",
   "id": "cbd07770",
   "metadata": {},
   "source": [
    "### Average tokens used by RAG"
   ]
  },
  {
   "cell_type": "code",
   "execution_count": 13,
   "id": "cb219c13",
   "metadata": {},
   "outputs": [
    {
     "name": "stdout",
     "output_type": "stream",
     "text": [
      "Average tokens used by Simple methods: 3029.1551155115512\n",
      "Average tokens used by Sentence methods: 2706.5247524752476\n",
      "Average tokens used by ASC methods: 5981.475247524752\n",
      "Average tokens used by RAG methods: 3905.718371837184\n"
     ]
    }
   ],
   "source": [
    "# to get the average RAG used token\n",
    "df[\"input_tokens_rag_avg\"] = df[[\n",
    "    \"input_tokens_simple\", \n",
    "    \"input_tokens_sentence\", \n",
    "    \"input_tokens_asc\"\n",
    "]].mean(axis=1)\n",
    "print(\"Average tokens used by Simple methods:\", df[[\"input_tokens_simple\"]].mean(axis=1).mean())\n",
    "print(\"Average tokens used by Sentence methods:\", df[[ \"input_tokens_sentence\"]].mean(axis=1).mean())\n",
    "print(\"Average tokens used by ASC methods:\", df[[\"input_tokens_asc\"]].mean(axis=1).mean())\n",
    "print(\"Average tokens used by RAG methods:\", df[[\"input_tokens_simple\", \"input_tokens_sentence\", \"input_tokens_asc\"]].mean(axis=1).mean())"
   ]
  },
  {
   "cell_type": "markdown",
   "id": "abcdd9de",
   "metadata": {},
   "source": [
    "### Average tokens used by Long-context"
   ]
  },
  {
   "cell_type": "code",
   "execution_count": 7,
   "id": "dc4b05f6",
   "metadata": {},
   "outputs": [
    {
     "name": "stdout",
     "output_type": "stream",
     "text": [
      "Average tokens used by Long-Context method: 59688.48844884489\n"
     ]
    }
   ],
   "source": [
    "# to get the average Long context used token\n",
    "df[\"token_difference_lc_vs_rag\"] = df[\"input_tokens_lc\"] - df[\"input_tokens_rag_avg\"]\n",
    "print(\"Average tokens used by Long-Context method:\", df[\"input_tokens_lc\"].mean())"
   ]
  },
  {
   "cell_type": "markdown",
   "id": "4bdd466e",
   "metadata": {},
   "source": [
    "### Result: Difference"
   ]
  },
  {
   "cell_type": "code",
   "execution_count": 8,
   "id": "92254ed5",
   "metadata": {},
   "outputs": [
    {
     "name": "stdout",
     "output_type": "stream",
     "text": [
      "On average, long-context uses 55783 more tokens than RAG.\n"
     ]
    }
   ],
   "source": [
    "# to get the difference\n",
    "avg_extra_tokens = df[\"token_difference_lc_vs_rag\"].mean()\n",
    "print(f\"On average, long-context uses {avg_extra_tokens:.0f} more tokens than RAG.\")"
   ]
  },
  {
   "cell_type": "markdown",
   "id": "c648dc84",
   "metadata": {},
   "source": [
    "## 4. Each method perform under each sub-categories"
   ]
  },
  {
   "cell_type": "code",
   "execution_count": 9,
   "id": "56e5bf1d",
   "metadata": {},
   "outputs": [],
   "source": [
    "methods = [\"simple\", \"sentence\", \"asc\", \"lc\"]\n",
    "for method in methods:\n",
    "    df[f\"correct_llm_answer_{method}\"] = df[f\"llm_answer_{method}\"] == df[\"answer\"]"
   ]
  },
  {
   "cell_type": "markdown",
   "id": "5227ebd5",
   "metadata": {},
   "source": [
    "### a. By Domain"
   ]
  },
  {
   "cell_type": "code",
   "execution_count": 10,
   "id": "2286bca2",
   "metadata": {},
   "outputs": [
    {
     "data": {
      "text/html": [
       "<div>\n",
       "<style scoped>\n",
       "    .dataframe tbody tr th:only-of-type {\n",
       "        vertical-align: middle;\n",
       "    }\n",
       "\n",
       "    .dataframe tbody tr th {\n",
       "        vertical-align: top;\n",
       "    }\n",
       "\n",
       "    .dataframe thead th {\n",
       "        text-align: right;\n",
       "    }\n",
       "</style>\n",
       "<table border=\"1\" class=\"dataframe\">\n",
       "  <thead>\n",
       "    <tr style=\"text-align: right;\">\n",
       "      <th></th>\n",
       "      <th>domain</th>\n",
       "      <th>simple_accuracy</th>\n",
       "      <th>sentence_accuracy</th>\n",
       "      <th>asc_accuracy</th>\n",
       "      <th>lc_accuracy</th>\n",
       "    </tr>\n",
       "  </thead>\n",
       "  <tbody>\n",
       "    <tr>\n",
       "      <th>0</th>\n",
       "      <td>Code Repository Understanding</td>\n",
       "      <td>0.466667</td>\n",
       "      <td>0.400000</td>\n",
       "      <td>0.600000</td>\n",
       "      <td>0.400000</td>\n",
       "    </tr>\n",
       "    <tr>\n",
       "      <th>1</th>\n",
       "      <td>Long In-context Learning</td>\n",
       "      <td>0.300000</td>\n",
       "      <td>0.300000</td>\n",
       "      <td>0.325000</td>\n",
       "      <td>0.500000</td>\n",
       "    </tr>\n",
       "    <tr>\n",
       "      <th>2</th>\n",
       "      <td>Long Structured Data Understanding</td>\n",
       "      <td>0.250000</td>\n",
       "      <td>0.000000</td>\n",
       "      <td>0.000000</td>\n",
       "      <td>0.000000</td>\n",
       "    </tr>\n",
       "    <tr>\n",
       "      <th>3</th>\n",
       "      <td>Long-dialogue History Understanding</td>\n",
       "      <td>0.358974</td>\n",
       "      <td>0.307692</td>\n",
       "      <td>0.410256</td>\n",
       "      <td>0.307692</td>\n",
       "    </tr>\n",
       "    <tr>\n",
       "      <th>4</th>\n",
       "      <td>Multi-Document QA</td>\n",
       "      <td>0.435294</td>\n",
       "      <td>0.388235</td>\n",
       "      <td>0.423529</td>\n",
       "      <td>0.458824</td>\n",
       "    </tr>\n",
       "    <tr>\n",
       "      <th>5</th>\n",
       "      <td>Single-Document QA</td>\n",
       "      <td>0.475000</td>\n",
       "      <td>0.450000</td>\n",
       "      <td>0.450000</td>\n",
       "      <td>0.466667</td>\n",
       "    </tr>\n",
       "  </tbody>\n",
       "</table>\n",
       "</div>"
      ],
      "text/plain": [
       "                                domain  simple_accuracy  sentence_accuracy  \\\n",
       "0        Code Repository Understanding         0.466667           0.400000   \n",
       "1             Long In-context Learning         0.300000           0.300000   \n",
       "2   Long Structured Data Understanding         0.250000           0.000000   \n",
       "3  Long-dialogue History Understanding         0.358974           0.307692   \n",
       "4                    Multi-Document QA         0.435294           0.388235   \n",
       "5                   Single-Document QA         0.475000           0.450000   \n",
       "\n",
       "   asc_accuracy  lc_accuracy  \n",
       "0      0.600000     0.400000  \n",
       "1      0.325000     0.500000  \n",
       "2      0.000000     0.000000  \n",
       "3      0.410256     0.307692  \n",
       "4      0.423529     0.458824  \n",
       "5      0.450000     0.466667  "
      ]
     },
     "metadata": {},
     "output_type": "display_data"
    }
   ],
   "source": [
    "# Compare under \"domain\"\n",
    "accuracy_by_domain = df.groupby(\"domain\")[\n",
    "    [f\"y_or_n_llm_answer_{m}\" for m in methods]\n",
    "].mean()\n",
    "accuracy_by_domain.columns = [f\"{m}_accuracy\" for m in methods]\n",
    "accuracy_by_domain.reset_index(inplace=True)\n",
    "\n",
    "# To generate csv of \"accuracy\" classified by \"domain\"\n",
    "methods = [\"simple\", \"sentence\", \"asc\", \"lc\"]\n",
    "\n",
    "for method in methods:\n",
    "    df[f\"y_or_n_llm_answer_{method}\"] = df[f\"llm_answer_{method}\"] == df[\"answer\"]\n",
    "\n",
    "domain_grouped = df.groupby(\"domain\")[\n",
    "    [f\"y_or_n_llm_answer_{method}\" for method in methods]\n",
    "].mean()\n",
    "\n",
    "domain_grouped.columns = [f\"{method}_accuracy\" for method in methods]\n",
    "\n",
    "domain_grouped.reset_index(inplace=True)\n",
    "\n",
    "display(domain_grouped)"
   ]
  },
  {
   "cell_type": "code",
   "execution_count": 11,
   "id": "aa88e008",
   "metadata": {},
   "outputs": [
    {
     "data": {
      "text/plain": [
       "llm_answer_sentence    4\n",
       "llm_answer_asc         4\n",
       "llm_answer_lc          4\n",
       "dtype: int64"
      ]
     },
     "execution_count": 11,
     "metadata": {},
     "output_type": "execute_result"
    }
   ],
   "source": [
    "# weird to have sentence, asc and lc accuracy are all 0, just double check\n",
    "df[df[\"domain\"] == \"Long Structured Data Understanding\"][\n",
    "    [\"llm_answer_sentence\", \"llm_answer_asc\", \"llm_answer_lc\"]\n",
    "].notna().sum()"
   ]
  },
  {
   "cell_type": "markdown",
   "id": "efec3220",
   "metadata": {},
   "source": [
    "### b. By Difficulty"
   ]
  },
  {
   "cell_type": "code",
   "execution_count": 12,
   "id": "2737b151",
   "metadata": {},
   "outputs": [
    {
     "data": {
      "text/html": [
       "<div>\n",
       "<style scoped>\n",
       "    .dataframe tbody tr th:only-of-type {\n",
       "        vertical-align: middle;\n",
       "    }\n",
       "\n",
       "    .dataframe tbody tr th {\n",
       "        vertical-align: top;\n",
       "    }\n",
       "\n",
       "    .dataframe thead th {\n",
       "        text-align: right;\n",
       "    }\n",
       "</style>\n",
       "<table border=\"1\" class=\"dataframe\">\n",
       "  <thead>\n",
       "    <tr style=\"text-align: right;\">\n",
       "      <th></th>\n",
       "      <th>difficulty</th>\n",
       "      <th>simple_accuracy</th>\n",
       "      <th>sentence_accuracy</th>\n",
       "      <th>asc_accuracy</th>\n",
       "      <th>lc_accuracy</th>\n",
       "    </tr>\n",
       "  </thead>\n",
       "  <tbody>\n",
       "    <tr>\n",
       "      <th>0</th>\n",
       "      <td>easy</td>\n",
       "      <td>0.418182</td>\n",
       "      <td>0.390909</td>\n",
       "      <td>0.436364</td>\n",
       "      <td>0.454545</td>\n",
       "    </tr>\n",
       "    <tr>\n",
       "      <th>1</th>\n",
       "      <td>hard</td>\n",
       "      <td>0.424870</td>\n",
       "      <td>0.383420</td>\n",
       "      <td>0.414508</td>\n",
       "      <td>0.430052</td>\n",
       "    </tr>\n",
       "  </tbody>\n",
       "</table>\n",
       "</div>"
      ],
      "text/plain": [
       "  difficulty  simple_accuracy  sentence_accuracy  asc_accuracy  lc_accuracy\n",
       "0       easy         0.418182           0.390909      0.436364     0.454545\n",
       "1       hard         0.424870           0.383420      0.414508     0.430052"
      ]
     },
     "metadata": {},
     "output_type": "display_data"
    }
   ],
   "source": [
    "accuracy_by_difficulty = df.groupby(\"difficulty\")[\n",
    "    [f\"y_or_n_llm_answer_{m}\" for m in methods]\n",
    "].mean()\n",
    "accuracy_by_difficulty.columns = [f\"{m}_accuracy\" for m in methods]\n",
    "accuracy_by_difficulty.reset_index(inplace=True)\n",
    "\n",
    "# To generate csv of \"accuracy\" classified by \"difficulty\"\n",
    "difficulty_grouped = df.groupby(\"difficulty\")[\n",
    "    [f\"y_or_n_llm_answer_{method}\" for method in methods]\n",
    "].mean()\n",
    "difficulty_grouped.columns = [f\"{method}_accuracy\" for method in methods]\n",
    "difficulty_grouped.reset_index(inplace=True)\n",
    "display(difficulty_grouped)"
   ]
  },
  {
   "cell_type": "markdown",
   "id": "ffef9513",
   "metadata": {},
   "source": [
    "### c. By Length"
   ]
  },
  {
   "cell_type": "code",
   "execution_count": 13,
   "id": "4d19ce43",
   "metadata": {},
   "outputs": [
    {
     "data": {
      "text/html": [
       "<div>\n",
       "<style scoped>\n",
       "    .dataframe tbody tr th:only-of-type {\n",
       "        vertical-align: middle;\n",
       "    }\n",
       "\n",
       "    .dataframe tbody tr th {\n",
       "        vertical-align: top;\n",
       "    }\n",
       "\n",
       "    .dataframe thead th {\n",
       "        text-align: right;\n",
       "    }\n",
       "</style>\n",
       "<table border=\"1\" class=\"dataframe\">\n",
       "  <thead>\n",
       "    <tr style=\"text-align: right;\">\n",
       "      <th></th>\n",
       "      <th>length</th>\n",
       "      <th>simple_accuracy</th>\n",
       "      <th>sentence_accuracy</th>\n",
       "      <th>asc_accuracy</th>\n",
       "      <th>lc_accuracy</th>\n",
       "    </tr>\n",
       "  </thead>\n",
       "  <tbody>\n",
       "    <tr>\n",
       "      <th>0</th>\n",
       "      <td>medium</td>\n",
       "      <td>0.39200</td>\n",
       "      <td>0.34400</td>\n",
       "      <td>0.376000</td>\n",
       "      <td>0.384000</td>\n",
       "    </tr>\n",
       "    <tr>\n",
       "      <th>1</th>\n",
       "      <td>short</td>\n",
       "      <td>0.44382</td>\n",
       "      <td>0.41573</td>\n",
       "      <td>0.455056</td>\n",
       "      <td>0.477528</td>\n",
       "    </tr>\n",
       "  </tbody>\n",
       "</table>\n",
       "</div>"
      ],
      "text/plain": [
       "   length  simple_accuracy  sentence_accuracy  asc_accuracy  lc_accuracy\n",
       "0  medium          0.39200            0.34400      0.376000     0.384000\n",
       "1   short          0.44382            0.41573      0.455056     0.477528"
      ]
     },
     "metadata": {},
     "output_type": "display_data"
    }
   ],
   "source": [
    "accuracy_by_length = df.groupby(\"length\")[\n",
    "    [f\"y_or_n_llm_answer_{m}\" for m in methods]\n",
    "].mean()\n",
    "accuracy_by_length.columns = [f\"{m}_accuracy\" for m in methods]\n",
    "accuracy_by_length.reset_index(inplace=True)\n",
    "\n",
    "# To generate csv of \"accuracy\" classified by \"length\"\n",
    "length_grouped = df.groupby(\"length\")[\n",
    "    [f\"y_or_n_llm_answer_{method}\" for method in methods]\n",
    "].mean()\n",
    "length_grouped.columns = [f\"{method}_accuracy\" for method in methods]\n",
    "length_grouped.reset_index(inplace=True)\n",
    "\n",
    "display(length_grouped)\n"
   ]
  },
  {
   "cell_type": "code",
   "execution_count": 14,
   "id": "f787453d",
   "metadata": {},
   "outputs": [],
   "source": [
    "domain_grouped.to_csv(\"../data/accuracy_by_domain.csv\", index=False)\n",
    "difficulty_grouped.to_csv(\"../data/accuracy_by_difficulty.csv\", index=False)\n",
    "length_grouped.to_csv(\"../data/accuracy_by_length.csv\", index=False)"
   ]
  },
  {
   "cell_type": "markdown",
   "id": "551b621f",
   "metadata": {},
   "source": [
    "### Result"
   ]
  },
  {
   "cell_type": "code",
   "execution_count": 15,
   "id": "b8a7c468",
   "metadata": {},
   "outputs": [
    {
     "name": "stdout",
     "output_type": "stream",
     "text": [
      "Best method per domain:\n",
      "domain\n",
      "Code Repository Understanding             asc_accuracy\n",
      "Long In-context Learning                   lc_accuracy\n",
      "Long Structured Data Understanding     simple_accuracy\n",
      "Long-dialogue History Understanding       asc_accuracy\n",
      "Multi-Document QA                          lc_accuracy\n",
      "Single-Document QA                     simple_accuracy\n",
      "dtype: object\n"
     ]
    }
   ],
   "source": [
    "# print out result\n",
    "domain_grouped.set_index(\"domain\", inplace=True)\n",
    "best_by_domain = domain_grouped.idxmax(axis=1)\n",
    "print(\"Best method per domain:\")\n",
    "print(best_by_domain)"
   ]
  },
  {
   "cell_type": "markdown",
   "id": "bbe1bd6a",
   "metadata": {},
   "source": [
    "## 5. Additional insights: Accuracy vs Token Usage Trade-off"
   ]
  },
  {
   "cell_type": "code",
   "execution_count": 16,
   "id": "ef7c7536",
   "metadata": {},
   "outputs": [
    {
     "data": {
      "text/html": [
       "<div>\n",
       "<style scoped>\n",
       "    .dataframe tbody tr th:only-of-type {\n",
       "        vertical-align: middle;\n",
       "    }\n",
       "\n",
       "    .dataframe tbody tr th {\n",
       "        vertical-align: top;\n",
       "    }\n",
       "\n",
       "    .dataframe thead th {\n",
       "        text-align: right;\n",
       "    }\n",
       "</style>\n",
       "<table border=\"1\" class=\"dataframe\">\n",
       "  <thead>\n",
       "    <tr style=\"text-align: right;\">\n",
       "      <th></th>\n",
       "      <th>accuracy</th>\n",
       "      <th>avg_tokens</th>\n",
       "    </tr>\n",
       "  </thead>\n",
       "  <tbody>\n",
       "    <tr>\n",
       "      <th>lc</th>\n",
       "      <td>0.438944</td>\n",
       "      <td>59688.488449</td>\n",
       "    </tr>\n",
       "    <tr>\n",
       "      <th>simple</th>\n",
       "      <td>0.422442</td>\n",
       "      <td>3029.155116</td>\n",
       "    </tr>\n",
       "    <tr>\n",
       "      <th>asc</th>\n",
       "      <td>0.422442</td>\n",
       "      <td>5981.475248</td>\n",
       "    </tr>\n",
       "    <tr>\n",
       "      <th>sentence</th>\n",
       "      <td>0.386139</td>\n",
       "      <td>2706.524752</td>\n",
       "    </tr>\n",
       "  </tbody>\n",
       "</table>\n",
       "</div>"
      ],
      "text/plain": [
       "          accuracy    avg_tokens\n",
       "lc        0.438944  59688.488449\n",
       "simple    0.422442   3029.155116\n",
       "asc       0.422442   5981.475248\n",
       "sentence  0.386139   2706.524752"
      ]
     },
     "metadata": {},
     "output_type": "display_data"
    }
   ],
   "source": [
    "methods = [\"simple\", \"sentence\", \"asc\", \"lc\"]\n",
    "\n",
    "accuracy = {\n",
    "    method: df[f\"y_or_n_llm_answer_{method}\"].mean()\n",
    "    for method in methods\n",
    "}\n",
    "\n",
    "avg_tokens = {\n",
    "    method: df[f\"input_tokens_{method}\"].mean()\n",
    "    for method in methods\n",
    "}\n",
    "\n",
    "\n",
    "summary_df = pd.DataFrame({\n",
    "    \"accuracy\": accuracy,\n",
    "    \"avg_tokens\": avg_tokens\n",
    "})\n",
    "summary_df = summary_df.sort_values(by=\"accuracy\", ascending=False)\n",
    "display(summary_df)"
   ]
  },
  {
   "cell_type": "markdown",
   "id": "dcbbf3f5",
   "metadata": {},
   "source": [
    "### Visualise Analysis"
   ]
  },
  {
   "cell_type": "code",
   "execution_count": 17,
   "id": "82d1697f",
   "metadata": {},
   "outputs": [
    {
     "name": "stdout",
     "output_type": "stream",
     "text": [
      "Collecting package metadata (current_repodata.json): done\n",
      "Solving environment: done\n",
      "\n",
      "# All requested packages already installed.\n",
      "\n"
     ]
    },
    {
     "data": {
      "image/png": "[encoded data removed]",
      "text/plain": [
       "<Figure size 800x500 with 1 Axes>"
      ]
     },
     "metadata": {},
     "output_type": "display_data"
    }
   ],
   "source": [
    "summary_df[\"tokens_per_accuracy\"] = summary_df[\"avg_tokens\"] / summary_df[\"accuracy\"]\n",
    "summary_df = summary_df.sort_values(by=\"tokens_per_accuracy\")\n",
    "\n",
    "!conda install matplotlib -y\n",
    "import matplotlib.pyplot as plt\n",
    "\n",
    "plt.figure(figsize=(8, 5))\n",
    "plt.scatter(summary_df[\"avg_tokens\"], summary_df[\"accuracy\"])\n",
    "\n",
    "# 添加偏移坐标防止重叠\n",
    "offsets = {\n",
    "    \"simple\": (-1500, 0.001),\n",
    "    \"sentence\": (-300, -0.002),\n",
    "    \"asc\": (-110, -0.002),\n",
    "    \"lc\": (-110, 0.001)\n",
    "}\n",
    "\n",
    "for method in summary_df.index:\n",
    "    x = summary_df.loc[method, \"avg_tokens\"]\n",
    "    y = summary_df.loc[method, \"accuracy\"]\n",
    "    dx, dy = offsets.get(method, (0, 0))  # 默认偏移为0\n",
    "    plt.text(x + dx, y + dy, method, fontsize=10)\n",
    "\n",
    "plt.xlabel(\"Average Tokens Used\")\n",
    "plt.ylabel(\"Accuracy\")\n",
    "plt.title(\"Accuracy vs Token Usage Trade-off\")\n",
    "plt.grid(True)\n",
    "plt.tight_layout()\n",
    "plt.show()\n"
   ]
  },
  {
   "cell_type": "markdown",
   "id": "3b884db3",
   "metadata": {},
   "source": [
    "### Correlation Analysis\n"
   ]
  },
  {
   "cell_type": "code",
   "execution_count": 18,
   "id": "4239d69e",
   "metadata": {},
   "outputs": [
    {
     "name": "stdout",
     "output_type": "stream",
     "text": [
      "Intel MKL WARNING: Support of Intel(R) Streaming SIMD Extensions 4.2 (Intel(R) SSE4.2) enabled only processors has been deprecated. Intel oneAPI Math Kernel Library 2025.0 will require Intel(R) Advanced Vector Extensions (Intel(R) AVX) instructions.\n"
     ]
    },
    {
     "data": {
      "image/png": "[encoded data removed]",
      "text/plain": [
       "<Figure size 800x500 with 1 Axes>"
      ]
     },
     "metadata": {},
     "output_type": "display_data"
    }
   ],
   "source": [
    "# Linear regression\n",
    "x = summary_df[\"avg_tokens\"]\n",
    "y = summary_df[\"accuracy\"]\n",
    "methods = summary_df.index.tolist()\n",
    "from scipy.stats import linregress\n",
    "slope, intercept, r_value, p_value, std_err = linregress(x, y)\n",
    "line = slope * x + intercept\n",
    "\n",
    "# Plot\n",
    "plt.figure(figsize=(8, 5))\n",
    "plt.scatter(x, y, label=\"Methods\")\n",
    "plt.plot(x, line, color=\"red\", linestyle=\"--\", label=f\"Fit line (r={r_value:.2f})\")\n",
    "\n",
    "# Label placement with offsets\n",
    "offsets = {\n",
    "    \"simple\": (-300, 0.001),\n",
    "    \"sentence\": (-300, -0.002),\n",
    "    \"asc\": (300, -0.001),\n",
    "    \"lc\": (100, 0.001)\n",
    "}\n",
    "for method in methods:\n",
    "    dx, dy = offsets.get(method, (0, 0))\n",
    "    plt.text(summary_df.loc[method, \"avg_tokens\"] + dx,\n",
    "             summary_df.loc[method, \"accuracy\"] + dy,\n",
    "             method, fontsize=10)\n",
    "\n",
    "plt.xlabel(\"Average Tokens Used\")\n",
    "plt.ylabel(\"Accuracy\")\n",
    "plt.title(\"Accuracy vs Token Usage with Regression Line\")\n",
    "plt.legend()\n",
    "plt.grid(True)\n",
    "plt.tight_layout()\n",
    "plt.show()\n"
   ]
  },
  {
   "cell_type": "code",
   "execution_count": 115,
   "id": "057e42ec",
   "metadata": {},
   "outputs": [
    {
     "name": "stdout",
     "output_type": "stream",
     "text": [
      "Pearson correlation: r = 0.6636, p = 0.3364\n"
     ]
    }
   ],
   "source": [
    "from scipy.stats import pearsonr\n",
    "\n",
    "r, p = pearsonr(summary_df[\"avg_tokens\"], summary_df[\"accuracy\"])\n",
    "print(f\"Pearson correlation: r = {r:.4f}, p = {p:.4f}\")"
   ]
  },
  {
   "cell_type": "markdown",
   "id": "fbe2a9e7",
   "metadata": {},
   "source": [
    "We observe a moderate positive correlation between average token usage and accuracy across the four methods (Pearson r = 0.66), suggesting that longer contexts may improve accuracy.\n",
    "However, the relationship is not statistically significant (p = 0.34), likely due to the small number of methods, and thus should be interpreted cautiously.\n",
    "\n",
    "The long-context (lc) method consumes significantly more tokens, while achieving only a marginal improvement in accuracy.\n",
    "\n",
    "The sentence-based method uses fewer tokens but suffers from noticeably lower accuracy.\n",
    "\n",
    "Both the simple and asc methods strike a more favourable balance between token usage and accuracy, representing a more efficient trade-off."
   ]
  }
 ],
 "metadata": {
  "kernelspec": {
   "display_name": "st311",
   "language": "python",
   "name": "python3"
  },
  "language_info": {
   "codemirror_mode": {
    "name": "ipython",
    "version": 3
   },
   "file_extension": ".py",
   "mimetype": "text/x-python",
   "name": "python",
   "nbconvert_exporter": "python",
   "pygments_lexer": "ipython3",
   "version": "3.11.11"
  }
 },
 "nbformat": 4,
 "nbformat_minor": 5
}
