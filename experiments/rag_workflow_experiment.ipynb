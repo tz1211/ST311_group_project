{
 "cells": [
  {
   "cell_type": "markdown",
   "metadata": {},
   "source": [
    "# Set Up "
   ]
  },
  {
   "cell_type": "code",
   "execution_count": 1,
   "metadata": {},
   "outputs": [
    {
     "data": {
      "application/vnd.jupyter.widget-view+json": {
       "model_id": "07ac5756442541ee8037dbb2db4ec8a1",
       "version_major": 2,
       "version_minor": 0
      },
      "text/plain": [
       "Fetching 30 files:   0%|          | 0/30 [00:00<?, ?it/s]"
      ]
     },
     "metadata": {},
     "output_type": "display_data"
    },
    {
     "data": {
      "text/plain": [
       "True"
      ]
     },
     "execution_count": 1,
     "metadata": {},
     "output_type": "execute_result"
    }
   ],
   "source": [
    "import sys\n",
    "import csv \n",
    "csv.field_size_limit(sys.maxsize)\n",
    "\n",
    "if '..' not in sys.path:\n",
    "    sys.path.append('..')\n",
    "\n",
    "import os\n",
    "import logging\n",
    "import pandas as pd \n",
    "from dotenv import load_dotenv\n",
    "from RAG.rag_agent import RAGAgent \n",
    "from RAG.rag_searcher import RAGSearcher\n",
    "from utils.clients import create_chat_client, create_embed_client \n",
    "\n",
    "load_dotenv(override=True)"
   ]
  },
  {
   "cell_type": "code",
   "execution_count": 2,
   "metadata": {},
   "outputs": [],
   "source": [
    "# Set up logging\n",
    "logging.basicConfig(\n",
    "    level=logging.INFO,  \n",
    "    format='%(asctime)s - %(name)s - %(levelname)s - %(message)s',\n",
    "    handlers=[\n",
    "        logging.FileHandler('../logs/rag_workflow_experiment.log')  # Remove StreamHandler to prevent console output\n",
    "    ]\n",
    ")\n",
    "\n",
    "logger = logging.getLogger(__name__)\n",
    "logger.setLevel(logging.INFO)  \n",
    "\n",
    "# Mute openai_messages_token_helper logger\n",
    "openai_token_logger = logging.getLogger(\"openai_messages_token_helper\")\n",
    "openai_token_logger.setLevel(logging.ERROR)"
   ]
  },
  {
   "cell_type": "markdown",
   "metadata": {},
   "source": [
    "# Load Data"
   ]
  },
  {
   "cell_type": "code",
   "execution_count": 3,
   "metadata": {},
   "outputs": [],
   "source": [
    "df_benchmark = pd.read_csv(\"../data/longbench_filtered.csv\", delimiter=\"§\", engine=\"python\")\n",
    "#df_context_asc = pd.read_csv(\"../data/longbench_context_chunked_asc.csv\", delimiter=\"§\", engine=\"python\")\n",
    "df_context_simple = pd.read_csv(\"../data/longbench_context_chunked_simple.csv\", delimiter=\"§\", engine=\"python\")\n",
    "#df_context_sentence = pd.read_csv(\"../data/longbench_context_chunked_sentence.csv\", delimiter=\"§\", engine=\"python\")"
   ]
  },
  {
   "cell_type": "markdown",
   "metadata": {},
   "source": [
    "# Initialise RAG Agent"
   ]
  },
  {
   "cell_type": "code",
   "execution_count": 4,
   "metadata": {},
   "outputs": [
    {
     "data": {
      "application/vnd.jupyter.widget-view+json": {
       "model_id": "84b81ed890d746938b9b86438867d22d",
       "version_major": 2,
       "version_minor": 0
      },
      "text/plain": [
       "Fetching 30 files:   0%|          | 0/30 [00:00<?, ?it/s]"
      ]
     },
     "metadata": {},
     "output_type": "display_data"
    }
   ],
   "source": [
    "chat_client = create_chat_client()\n",
    "embed_client = create_embed_client()\n",
    "\n",
    "rag_agent = RAGAgent(\n",
    "    chat_client=chat_client,\n",
    "    embed_client=embed_client,\n",
    "    chat_model=os.getenv(\"MODEL_NAME\"),\n",
    "    searcher=RAGSearcher(),\n",
    "    max_tokens=130000,\n",
    "    temperature=0.0\n",
    ")"
   ]
  },
  {
   "cell_type": "markdown",
   "metadata": {},
   "source": [
    "# Demo Workflow"
   ]
  },
  {
   "cell_type": "code",
   "execution_count": 5,
   "metadata": {},
   "outputs": [
    {
     "data": {
      "text/plain": [
       "_id                                               66f36490821e116aacb2cc22\n",
       "domain                                                  Single-Document QA\n",
       "sub_domain                                                       Financial\n",
       "difficulty                                                            easy\n",
       "length                                                               short\n",
       "question                 According to the report, how to promote the co...\n",
       "choice_A                 Through technology empowerment, change the way...\n",
       "choice_B                 Establish new types of courts, such as intelle...\n",
       "choice_C                 Improve the work ability of office staff and s...\n",
       "choice_D                 Use advanced information systems to improve th...\n",
       "answer                                                                   D\n",
       "context                  Contents\\nPreface.\\n.............................\n",
       "context_tokens                                                       38133\n",
       "within_context_window                                                 True\n",
       "Name: 0, dtype: object"
      ]
     },
     "execution_count": 5,
     "metadata": {},
     "output_type": "execute_result"
    }
   ],
   "source": [
    "df_benchmark.iloc[0]"
   ]
  },
  {
   "cell_type": "code",
   "execution_count": 6,
   "metadata": {},
   "outputs": [],
   "source": [
    "import random\n",
    "n = random.randint(0, len(df_benchmark))\n",
    "\n",
    "id = df_benchmark.iloc[n][\"_id\"]\n",
    "question = df_benchmark.iloc[n][\"question\"]\n",
    "choice_a = df_benchmark.iloc[n][\"choice_A\"]\n",
    "choice_b = df_benchmark.iloc[n][\"choice_B\"]\n",
    "choice_c = df_benchmark.iloc[n][\"choice_C\"]\n",
    "choice_d = df_benchmark.iloc[n][\"choice_D\"]\n",
    "context = df_benchmark.iloc[n][\"context\"]\n",
    "correct_answer = df_benchmark.iloc[n][\"answer\"]"
   ]
  },
  {
   "cell_type": "code",
   "execution_count": 7,
   "metadata": {},
   "outputs": [
    {
     "data": {
      "text/html": [
       "<div>\n",
       "<style scoped>\n",
       "    .dataframe tbody tr th:only-of-type {\n",
       "        vertical-align: middle;\n",
       "    }\n",
       "\n",
       "    .dataframe tbody tr th {\n",
       "        vertical-align: top;\n",
       "    }\n",
       "\n",
       "    .dataframe thead th {\n",
       "        text-align: right;\n",
       "    }\n",
       "</style>\n",
       "<table border=\"1\" class=\"dataframe\">\n",
       "  <thead>\n",
       "    <tr style=\"text-align: right;\">\n",
       "      <th></th>\n",
       "      <th>_id</th>\n",
       "      <th>chunk_id</th>\n",
       "      <th>chunk_text</th>\n",
       "      <th>embeddings</th>\n",
       "    </tr>\n",
       "  </thead>\n",
       "  <tbody>\n",
       "    <tr>\n",
       "      <th>24369</th>\n",
       "      <td>671b2e2dbb02136c067d515b</td>\n",
       "      <td>0</td>\n",
       "      <td>{ \" question _ id \" : \" e25c3b8d \", \" question...</td>\n",
       "      <td>[[-0.0157012939453125, -0.0247039794921875, -0...</td>\n",
       "    </tr>\n",
       "    <tr>\n",
       "      <th>24370</th>\n",
       "      <td>671b2e2dbb02136c067d515b</td>\n",
       "      <td>1</td>\n",
       "      <td>58 \", \" 2023 / 05 / 24 ( wed ) 18 : 36 \", \" 20...</td>\n",
       "      <td>[[-0.0134735107421875, -0.030792236328125, -0....</td>\n",
       "    </tr>\n",
       "    <tr>\n",
       "      <th>24371</th>\n",
       "      <td>671b2e2dbb02136c067d515b</td>\n",
       "      <td>2</td>\n",
       "      <td>1 \", \" f3a57240 \", \" c51a7155 \", \" ultrachat _...</td>\n",
       "      <td>[[-0.0298919677734375, 0.0020389556884765625, ...</td>\n",
       "    </tr>\n",
       "    <tr>\n",
       "      <th>24372</th>\n",
       "      <td>671b2e2dbb02136c067d515b</td>\n",
       "      <td>3</td>\n",
       "      <td>\", \" 1ccb08a0 \", \" ultrachat _ 216372 \", \" 927...</td>\n",
       "      <td>[[-0.0195465087890625, 0.00836944580078125, -0...</td>\n",
       "    </tr>\n",
       "    <tr>\n",
       "      <th>24373</th>\n",
       "      <td>671b2e2dbb02136c067d515b</td>\n",
       "      <td>4</td>\n",
       "      <td>but not urgent ( schedule ) \\ n \\ t * urgent b...</td>\n",
       "      <td>[[-0.00926971435546875, -0.00829315185546875, ...</td>\n",
       "    </tr>\n",
       "    <tr>\n",
       "      <th>...</th>\n",
       "      <td>...</td>\n",
       "      <td>...</td>\n",
       "      <td>...</td>\n",
       "      <td>...</td>\n",
       "    </tr>\n",
       "    <tr>\n",
       "      <th>24655</th>\n",
       "      <td>671b2e2dbb02136c067d515b</td>\n",
       "      <td>286</td>\n",
       "      <td>for, and i can give you some ideas. \" }, { \" r...</td>\n",
       "      <td>[[-0.01071929931640625, 0.0159759521484375, -0...</td>\n",
       "    </tr>\n",
       "    <tr>\n",
       "      <th>24656</th>\n",
       "      <td>671b2e2dbb02136c067d515b</td>\n",
       "      <td>287</td>\n",
       "      <td>family can spend a fun and educational day at ...</td>\n",
       "      <td>[[-0.043365478515625, -0.0163116455078125, -0....</td>\n",
       "    </tr>\n",
       "    <tr>\n",
       "      <th>24657</th>\n",
       "      <td>671b2e2dbb02136c067d515b</td>\n",
       "      <td>288</td>\n",
       "      <td>your recommend. \" }, { \" role \" : \" assistant ...</td>\n",
       "      <td>[[-0.033172607421875, 0.0033111572265625, -0.0...</td>\n",
       "    </tr>\n",
       "    <tr>\n",
       "      <th>24658</th>\n",
       "      <td>671b2e2dbb02136c067d515b</td>\n",
       "      <td>289</td>\n",
       "      <td>buildings and streets are illuminated with col...</td>\n",
       "      <td>[[-0.038055419921875, -0.0012712478637695312, ...</td>\n",
       "    </tr>\n",
       "    <tr>\n",
       "      <th>24659</th>\n",
       "      <td>671b2e2dbb02136c067d515b</td>\n",
       "      <td>290</td>\n",
       "      <td>ancient military defense systems in the world ...</td>\n",
       "      <td>[[-0.043121337890625, 0.03399658203125, -0.047...</td>\n",
       "    </tr>\n",
       "  </tbody>\n",
       "</table>\n",
       "<p>291 rows × 4 columns</p>\n",
       "</div>"
      ],
      "text/plain": [
       "                            _id  chunk_id  \\\n",
       "24369  671b2e2dbb02136c067d515b         0   \n",
       "24370  671b2e2dbb02136c067d515b         1   \n",
       "24371  671b2e2dbb02136c067d515b         2   \n",
       "24372  671b2e2dbb02136c067d515b         3   \n",
       "24373  671b2e2dbb02136c067d515b         4   \n",
       "...                         ...       ...   \n",
       "24655  671b2e2dbb02136c067d515b       286   \n",
       "24656  671b2e2dbb02136c067d515b       287   \n",
       "24657  671b2e2dbb02136c067d515b       288   \n",
       "24658  671b2e2dbb02136c067d515b       289   \n",
       "24659  671b2e2dbb02136c067d515b       290   \n",
       "\n",
       "                                              chunk_text  \\\n",
       "24369  { \" question _ id \" : \" e25c3b8d \", \" question...   \n",
       "24370  58 \", \" 2023 / 05 / 24 ( wed ) 18 : 36 \", \" 20...   \n",
       "24371  1 \", \" f3a57240 \", \" c51a7155 \", \" ultrachat _...   \n",
       "24372  \", \" 1ccb08a0 \", \" ultrachat _ 216372 \", \" 927...   \n",
       "24373  but not urgent ( schedule ) \\ n \\ t * urgent b...   \n",
       "...                                                  ...   \n",
       "24655  for, and i can give you some ideas. \" }, { \" r...   \n",
       "24656  family can spend a fun and educational day at ...   \n",
       "24657  your recommend. \" }, { \" role \" : \" assistant ...   \n",
       "24658  buildings and streets are illuminated with col...   \n",
       "24659  ancient military defense systems in the world ...   \n",
       "\n",
       "                                              embeddings  \n",
       "24369  [[-0.0157012939453125, -0.0247039794921875, -0...  \n",
       "24370  [[-0.0134735107421875, -0.030792236328125, -0....  \n",
       "24371  [[-0.0298919677734375, 0.0020389556884765625, ...  \n",
       "24372  [[-0.0195465087890625, 0.00836944580078125, -0...  \n",
       "24373  [[-0.00926971435546875, -0.00829315185546875, ...  \n",
       "...                                                  ...  \n",
       "24655  [[-0.01071929931640625, 0.0159759521484375, -0...  \n",
       "24656  [[-0.043365478515625, -0.0163116455078125, -0....  \n",
       "24657  [[-0.033172607421875, 0.0033111572265625, -0.0...  \n",
       "24658  [[-0.038055419921875, -0.0012712478637695312, ...  \n",
       "24659  [[-0.043121337890625, 0.03399658203125, -0.047...  \n",
       "\n",
       "[291 rows x 4 columns]"
      ]
     },
     "execution_count": 7,
     "metadata": {},
     "output_type": "execute_result"
    }
   ],
   "source": [
    "df_context_simple[df_context_simple[\"_id\"] == id]"
   ]
  },
  {
   "cell_type": "code",
   "execution_count": 8,
   "metadata": {},
   "outputs": [
    {
     "name": "stdout",
     "output_type": "stream",
     "text": [
      "Question: Which of the following happened first?\n",
      "A: the user started playing the Fender CD-60S\n",
      "B: the user went to that outdoor music festival\n",
      "C: the user felt overwhelmed with work projects\n",
      "D: the user took yoga classes at the local studio\n"
     ]
    }
   ],
   "source": [
    "def format_question(question: str, choice_a: str, choice_b: str, choice_c: str, choice_d: str) -> str:\n",
    "    return f\"Question: {question}\\nA: {choice_a}\\nB: {choice_b}\\nC: {choice_c}\\nD: {choice_d}\"\n",
    "\n",
    "formatted_question = format_question(question, choice_a, choice_b, choice_c, choice_d)\n",
    "print(formatted_question)"
   ]
  },
  {
   "cell_type": "code",
   "execution_count": 9,
   "metadata": {},
   "outputs": [
    {
     "name": "stdout",
     "output_type": "stream",
     "text": [
      "A\n",
      "Input tokens: 2891\n"
     ]
    }
   ],
   "source": [
    "llm_answer_rag, token_count = rag_agent.generate_response_rag(formatted_question, df_context_simple, id, top=5)\n",
    "print(llm_answer_rag)\n",
    "print(f\"Input tokens: {token_count}\")"
   ]
  },
  {
   "cell_type": "code",
   "execution_count": 10,
   "metadata": {},
   "outputs": [
    {
     "name": "stdout",
     "output_type": "stream",
     "text": [
      "C\n",
      "Input tokens: 139541\n"
     ]
    }
   ],
   "source": [
    "llm_answer_lc, token_count = rag_agent.generate_response_lc(formatted_question, context)\n",
    "print(llm_answer_lc)\n",
    "print(f\"Input tokens: {token_count}\")"
   ]
  },
  {
   "cell_type": "code",
   "execution_count": 11,
   "metadata": {},
   "outputs": [
    {
     "name": "stdout",
     "output_type": "stream",
     "text": [
      "Correct answer: C\n"
     ]
    }
   ],
   "source": [
    "print(f\"Correct answer: {correct_answer}\")"
   ]
  },
  {
   "cell_type": "code",
   "execution_count": null,
   "metadata": {},
   "outputs": [],
   "source": []
  }
 ],
 "metadata": {
  "kernelspec": {
   "display_name": "st311",
   "language": "python",
   "name": "python3"
  },
  "language_info": {
   "codemirror_mode": {
    "name": "ipython",
    "version": 3
   },
   "file_extension": ".py",
   "mimetype": "text/x-python",
   "name": "python",
   "nbconvert_exporter": "python",
   "pygments_lexer": "ipython3",
   "version": "3.11.11"
  }
 },
 "nbformat": 4,
 "nbformat_minor": 2
}
